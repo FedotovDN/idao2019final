{
 "cells": [
  {
   "cell_type": "markdown",
   "metadata": {},
   "source": [
    "# IDAO: expected time of orders in airports\n",
    "\n",
    "Airports are special points for taxi service. Every day a lot of people use a taxi to get to the city centre from the airport.\n",
    "\n",
    "One of important task is to predict how long a driver need to wait an order. It helps to understand what to do. Maybe the driver have to wait near doors, or can drink a tea, or even should drive to city center without an order.\n",
    "\n",
    "We request you to solve a simple version of this prediction task.\n",
    "\n",
    "**Task:** predict time of $k$ orders in airport (time since now when you get an order if you are $k$-th in queue), $k$ is one of 5 values (different for every airports).\n",
    "\n",
    "**Data**\n",
    "- train: number of order for every minutes for 6 months\n",
    "- test: every test sample has datetime info + numer of order for every minutes for last 2 weeks\n",
    "\n",
    "**Submission:** for every airport you should prepare a model which will be evaluated in submission system (code + model files). You can make different models for different airports.\n",
    "\n",
    "**Evaluation:** for every airport for every $k$ sMAPE will be calculated and averaged. General leaderboard will be calculated via Borda count. \n",
    "\n",
    "## Baseline"
   ]
  },
  {
   "cell_type": "code",
   "execution_count": 1,
   "metadata": {},
   "outputs": [
    {
     "name": "stdout",
     "output_type": "stream",
     "text": [
      "Populating the interactive namespace from numpy and matplotlib\n"
     ]
    }
   ],
   "source": [
    "%pylab inline\n",
    "\n",
    "import catboost\n",
    "import pandas as pd\n",
    "import pickle\n",
    "import tqdm"
   ]
  },
  {
   "cell_type": "markdown",
   "metadata": {},
   "source": [
    "Let's prepare a model for set2."
   ]
  },
  {
   "cell_type": "markdown",
   "metadata": {},
   "source": [
    "# Load train dataset"
   ]
  },
  {
   "cell_type": "code",
   "execution_count": 61,
   "metadata": {},
   "outputs": [
    {
     "data": {
      "text/html": [
       "<div>\n",
       "<style scoped>\n",
       "    .dataframe tbody tr th:only-of-type {\n",
       "        vertical-align: middle;\n",
       "    }\n",
       "\n",
       "    .dataframe tbody tr th {\n",
       "        vertical-align: top;\n",
       "    }\n",
       "\n",
       "    .dataframe thead th {\n",
       "        text-align: right;\n",
       "    }\n",
       "</style>\n",
       "<table border=\"1\" class=\"dataframe\">\n",
       "  <thead>\n",
       "    <tr style=\"text-align: right;\">\n",
       "      <th></th>\n",
       "      <th>datetime</th>\n",
       "      <th>num_orders</th>\n",
       "    </tr>\n",
       "  </thead>\n",
       "  <tbody>\n",
       "    <tr>\n",
       "      <th>0</th>\n",
       "      <td>2018-03-01 00:00:00</td>\n",
       "      <td>0</td>\n",
       "    </tr>\n",
       "    <tr>\n",
       "      <th>1</th>\n",
       "      <td>2018-03-01 00:01:00</td>\n",
       "      <td>0</td>\n",
       "    </tr>\n",
       "    <tr>\n",
       "      <th>2</th>\n",
       "      <td>2018-03-01 00:02:00</td>\n",
       "      <td>0</td>\n",
       "    </tr>\n",
       "    <tr>\n",
       "      <th>3</th>\n",
       "      <td>2018-03-01 00:03:00</td>\n",
       "      <td>0</td>\n",
       "    </tr>\n",
       "    <tr>\n",
       "      <th>4</th>\n",
       "      <td>2018-03-01 00:04:00</td>\n",
       "      <td>1</td>\n",
       "    </tr>\n",
       "  </tbody>\n",
       "</table>\n",
       "</div>"
      ],
      "text/plain": [
       "             datetime  num_orders\n",
       "0 2018-03-01 00:00:00           0\n",
       "1 2018-03-01 00:01:00           0\n",
       "2 2018-03-01 00:02:00           0\n",
       "3 2018-03-01 00:03:00           0\n",
       "4 2018-03-01 00:04:00           1"
      ]
     },
     "execution_count": 61,
     "metadata": {},
     "output_type": "execute_result"
    }
   ],
   "source": [
    "set_name = 'set1'\n",
    "path_train_set = '../../data/train/{}.csv'.format(set_name)\n",
    "\n",
    "data = pd.read_csv(path_train_set)\n",
    "data.datetime = data.datetime.apply(\n",
    "    lambda x: datetime.datetime.strptime(x, '%Y-%m-%d %H:%M:%S'))\n",
    "data = data.sort_values('datetime')\n",
    "data.head()"
   ]
  },
  {
   "cell_type": "markdown",
   "metadata": {},
   "source": [
    "Predict position for set2."
   ]
  },
  {
   "cell_type": "code",
   "execution_count": 62,
   "metadata": {},
   "outputs": [],
   "source": [
    "target_positions = {\n",
    "    'set1': [10, 30, 45, 60, 75],\n",
    "    'set2': [5, 10, 15, 20, 25],\n",
    "    'set3': [5, 7, 9, 11, 13]\n",
    "}[set_name]"
   ]
  },
  {
   "cell_type": "markdown",
   "metadata": {},
   "source": [
    "Some useful constant."
   ]
  },
  {
   "cell_type": "code",
   "execution_count": 63,
   "metadata": {},
   "outputs": [],
   "source": [
    "HOUR_IN_MINUTES = 60\n",
    "DAY_IN_MINUTES = 24 * HOUR_IN_MINUTES\n",
    "WEEK_IN_MINUTES = 7 * DAY_IN_MINUTES\n",
    "\n",
    "MAX_TIME = DAY_IN_MINUTES"
   ]
  },
  {
   "cell_type": "markdown",
   "metadata": {},
   "source": [
    "## Generate train samples with targets"
   ]
  },
  {
   "cell_type": "markdown",
   "metadata": {},
   "source": [
    "We have only history of orders (count of orders in every minutes) but we need to predict time of k orders since current minutes. So we should calculate target for train set. Also we will make a lot of samples from all set (we can only use two weeks of history while prediction so we can use only two weeks in every train sample)."
   ]
  },
  {
   "cell_type": "code",
   "execution_count": 64,
   "metadata": {},
   "outputs": [],
   "source": [
    "samples = {\n",
    "    'datetime': [],\n",
    "    'history': []}\n",
    "\n",
    "for position in target_positions:\n",
    "    samples['target_{}'.format(position)] = []\n",
    "    \n",
    "num_orders = data.num_orders.values"
   ]
  },
  {
   "cell_type": "markdown",
   "metadata": {},
   "source": [
    "To calculate target (minutes before k orders) we are going to use cumulative sum of orders. "
   ]
  },
  {
   "cell_type": "code",
   "execution_count": 65,
   "metadata": {},
   "outputs": [],
   "source": [
    "# start after 2 weeks because of history\n",
    "# finish earlier because of target calculation\n",
    "for i in range(2 * WEEK_IN_MINUTES,\n",
    "               len(num_orders) - 2 * DAY_IN_MINUTES):\n",
    "    \n",
    "    samples['datetime'].append(data.datetime[i])\n",
    "    samples['history'].append(num_orders[i-2*WEEK_IN_MINUTES:i])\n",
    "    \n",
    "    # cumsum not for all array because of time economy\n",
    "    cumsum_num_orders = num_orders[i+1:i+1+2*DAY_IN_MINUTES].cumsum()\n",
    "    for position in target_positions:\n",
    "        orders_by_positions = np.where(cumsum_num_orders >= position)[0]\n",
    "        if len(orders_by_positions):\n",
    "            time = orders_by_positions[0] + 1\n",
    "        else:\n",
    "            # if no orders in last days\n",
    "            time = MAX_TIME\n",
    "        samples['target_{}'.format(position)].append(time)"
   ]
  },
  {
   "cell_type": "markdown",
   "metadata": {},
   "source": [
    "Convert to pandas.dataframe. Now we have targets to train and predict."
   ]
  },
  {
   "cell_type": "code",
   "execution_count": 312,
   "metadata": {},
   "outputs": [
    {
     "data": {
      "text/html": [
       "<div>\n",
       "<style scoped>\n",
       "    .dataframe tbody tr th:only-of-type {\n",
       "        vertical-align: middle;\n",
       "    }\n",
       "\n",
       "    .dataframe tbody tr th {\n",
       "        vertical-align: top;\n",
       "    }\n",
       "\n",
       "    .dataframe thead th {\n",
       "        text-align: right;\n",
       "    }\n",
       "</style>\n",
       "<table border=\"1\" class=\"dataframe\">\n",
       "  <thead>\n",
       "    <tr style=\"text-align: right;\">\n",
       "      <th></th>\n",
       "      <th>datetime</th>\n",
       "      <th>history</th>\n",
       "      <th>target_10</th>\n",
       "      <th>target_30</th>\n",
       "      <th>target_45</th>\n",
       "      <th>target_60</th>\n",
       "      <th>target_75</th>\n",
       "    </tr>\n",
       "  </thead>\n",
       "  <tbody>\n",
       "    <tr>\n",
       "      <th>0</th>\n",
       "      <td>2018-03-15 00:00:00</td>\n",
       "      <td>[0, 0, 0, 0, 1, 2, 0, 1, 1, 4, 0, 1, 1, 1, 1, ...</td>\n",
       "      <td>5</td>\n",
       "      <td>18</td>\n",
       "      <td>28</td>\n",
       "      <td>32</td>\n",
       "      <td>42</td>\n",
       "    </tr>\n",
       "    <tr>\n",
       "      <th>1</th>\n",
       "      <td>2018-03-15 00:01:00</td>\n",
       "      <td>[0, 0, 0, 1, 2, 0, 1, 1, 4, 0, 1, 1, 1, 1, 3, ...</td>\n",
       "      <td>5</td>\n",
       "      <td>19</td>\n",
       "      <td>27</td>\n",
       "      <td>32</td>\n",
       "      <td>42</td>\n",
       "    </tr>\n",
       "    <tr>\n",
       "      <th>2</th>\n",
       "      <td>2018-03-15 00:02:00</td>\n",
       "      <td>[0, 0, 1, 2, 0, 1, 1, 4, 0, 1, 1, 1, 1, 3, 2, ...</td>\n",
       "      <td>7</td>\n",
       "      <td>20</td>\n",
       "      <td>27</td>\n",
       "      <td>33</td>\n",
       "      <td>43</td>\n",
       "    </tr>\n",
       "    <tr>\n",
       "      <th>3</th>\n",
       "      <td>2018-03-15 00:03:00</td>\n",
       "      <td>[0, 1, 2, 0, 1, 1, 4, 0, 1, 1, 1, 1, 3, 2, 3, ...</td>\n",
       "      <td>7</td>\n",
       "      <td>21</td>\n",
       "      <td>26</td>\n",
       "      <td>35</td>\n",
       "      <td>42</td>\n",
       "    </tr>\n",
       "    <tr>\n",
       "      <th>4</th>\n",
       "      <td>2018-03-15 00:04:00</td>\n",
       "      <td>[1, 2, 0, 1, 1, 4, 0, 1, 1, 1, 1, 3, 2, 3, 1, ...</td>\n",
       "      <td>7</td>\n",
       "      <td>20</td>\n",
       "      <td>26</td>\n",
       "      <td>35</td>\n",
       "      <td>42</td>\n",
       "    </tr>\n",
       "  </tbody>\n",
       "</table>\n",
       "</div>"
      ],
      "text/plain": [
       "             datetime                                            history  \\\n",
       "0 2018-03-15 00:00:00  [0, 0, 0, 0, 1, 2, 0, 1, 1, 4, 0, 1, 1, 1, 1, ...   \n",
       "1 2018-03-15 00:01:00  [0, 0, 0, 1, 2, 0, 1, 1, 4, 0, 1, 1, 1, 1, 3, ...   \n",
       "2 2018-03-15 00:02:00  [0, 0, 1, 2, 0, 1, 1, 4, 0, 1, 1, 1, 1, 3, 2, ...   \n",
       "3 2018-03-15 00:03:00  [0, 1, 2, 0, 1, 1, 4, 0, 1, 1, 1, 1, 3, 2, 3, ...   \n",
       "4 2018-03-15 00:04:00  [1, 2, 0, 1, 1, 4, 0, 1, 1, 1, 1, 3, 2, 3, 1, ...   \n",
       "\n",
       "   target_10  target_30  target_45  target_60  target_75  \n",
       "0          5         18         28         32         42  \n",
       "1          5         19         27         32         42  \n",
       "2          7         20         27         33         43  \n",
       "3          7         21         26         35         42  \n",
       "4          7         20         26         35         42  "
      ]
     },
     "execution_count": 312,
     "metadata": {},
     "output_type": "execute_result"
    }
   ],
   "source": [
    "df = pd.DataFrame.from_dict(samples)\n",
    "df.head()"
   ]
  },
  {
   "cell_type": "markdown",
   "metadata": {},
   "source": [
    "# Train model"
   ]
  },
  {
   "cell_type": "markdown",
   "metadata": {},
   "source": [
    "Let's generate simple features.\n",
    "\n",
    "By time:"
   ]
  },
  {
   "cell_type": "code",
   "execution_count": 313,
   "metadata": {},
   "outputs": [],
   "source": [
    "df['weekday'] = df.datetime.apply(lambda x: x.weekday())\n",
    "df['hour'] = df.datetime.apply(lambda x: x.hour)\n",
    "df['minute'] = df.datetime.apply(lambda x: x.minute)\n",
    "df['month'] = df.datetime.apply(lambda x: x.month)\n",
    "df['is_night'] = df.datetime.apply(lambda x: 1.0 if (x.hour < 6) else 0.0)"
   ]
  },
  {
   "cell_type": "code",
   "execution_count": 314,
   "metadata": {},
   "outputs": [],
   "source": [
    "df['is_weekend'] = df.datetime.apply(lambda x: 1.0 if (x.weekday() >=5)\n",
    "                              or ((x.day == 23) and (x.month == 2))\n",
    "                              or ((x.day == 8) and (x.month == 3))\n",
    "                              or ((x.day == 9) and (x.month == 3))\n",
    "                              or ((x.day == 30) and (x.month == 4))\n",
    "                              or ((x.day == 1) and (x.month == 5))\n",
    "                              or ((x.day == 2) and (x.month == 5))\n",
    "                              or ((x.day == 9) and (x.month == 5))\n",
    "                              or ((x.day == 11) and (x.month == 6))\n",
    "                              or ((x.day == 12) and (x.month == 6))\n",
    "                             else 0.0)"
   ]
  },
  {
   "cell_type": "markdown",
   "metadata": {},
   "source": [
    "Aggregators by order history with different shift and window size:"
   ]
  },
  {
   "cell_type": "code",
   "execution_count": 315,
   "metadata": {},
   "outputs": [],
   "source": [
    "SHIFTS = [\n",
    "    HOUR_IN_MINUTES // 4,\n",
    "    HOUR_IN_MINUTES // 2,\n",
    "    HOUR_IN_MINUTES,\n",
    "    DAY_IN_MINUTES,\n",
    "    DAY_IN_MINUTES * 2,\n",
    "    DAY_IN_MINUTES * 3,\n",
    "    WEEK_IN_MINUTES,\n",
    "    WEEK_IN_MINUTES * 2]\n",
    "WINDOWS = [\n",
    "    HOUR_IN_MINUTES // 4,\n",
    "    HOUR_IN_MINUTES // 2,\n",
    "    HOUR_IN_MINUTES,\n",
    "    DAY_IN_MINUTES,\n",
    "    DAY_IN_MINUTES * 2,\n",
    "    WEEK_IN_MINUTES,\n",
    "    WEEK_IN_MINUTES * 2]"
   ]
  },
  {
   "cell_type": "code",
   "execution_count": 316,
   "metadata": {},
   "outputs": [],
   "source": [
    "for shift in SHIFTS:\n",
    "    for window in WINDOWS:\n",
    "        temp = 0\n",
    "        if window > shift:\n",
    "            continue\n",
    "        if shift == window:\n",
    "            df['num_orders_{}_{}'.format(shift, window)] = df.history.apply(lambda x: x[-shift : -1].sum())\n",
    "        else:\n",
    "            df['num_orders_{}_{}'.format(shift, window)] = df.history.apply(lambda x: x[-shift : -shift + window].sum())"
   ]
  },
  {
   "cell_type": "markdown",
   "metadata": {},
   "source": [
    "Train/validation split for time. Let's use last 4 weeks for validation."
   ]
  },
  {
   "cell_type": "code",
   "execution_count": 317,
   "metadata": {},
   "outputs": [
    {
     "data": {
      "text/plain": [
       "(Timestamp('2018-03-15 00:00:00'), Timestamp('2018-08-29 23:59:00'))"
      ]
     },
     "execution_count": 317,
     "metadata": {},
     "output_type": "execute_result"
    }
   ],
   "source": [
    "df.datetime.min(), df.datetime.max()"
   ]
  },
  {
   "cell_type": "code",
   "execution_count": 333,
   "metadata": {},
   "outputs": [],
   "source": [
    "#df_train = df.loc[df.datetime >= df.datetime.min() + datetime.timedelta(days=28)]\n",
    "#df_test = df.loc[df.datetime < df.datetime.min() + datetime.timedelta(days=28)]\n",
    "from sklearn.model_selection import train_test_split\n",
    "df_train, df_test = train_test_split(df, test_size=0.2, stratify=df.weekday, shuffle=True)"
   ]
  },
  {
   "cell_type": "code",
   "execution_count": 334,
   "metadata": {},
   "outputs": [],
   "source": [
    "target_cols = ['target_{}'.format(position) for position in target_positions]\n",
    "\n",
    "y_train = df_train[target_cols]\n",
    "y_test = df_test[target_cols]\n",
    "\n",
    "\n",
    "\n",
    "df_train = df_train.drop(['datetime', 'history'] + target_cols, axis=1)\n",
    "df_test = df_test.drop(['datetime', 'history'] + target_cols, axis=1)"
   ]
  },
  {
   "cell_type": "code",
   "execution_count": 335,
   "metadata": {},
   "outputs": [],
   "source": [
    "X_all = df.drop(['datetime', 'history'] + target_cols, axis=1)\n",
    "y_all = df[target_cols]"
   ]
  },
  {
   "cell_type": "code",
   "execution_count": 336,
   "metadata": {},
   "outputs": [],
   "source": [
    "def sMAPE(y_true, y_predict, shift=0):\n",
    "    return 2 * np.mean(\n",
    "        np.abs(y_true - y_predict) /\n",
    "        (np.abs(y_true) + np.abs(y_predict) + shift))"
   ]
  },
  {
   "cell_type": "markdown",
   "metadata": {},
   "source": [
    "Also we will save models for prediction stage."
   ]
  },
  {
   "cell_type": "code",
   "execution_count": 337,
   "metadata": {},
   "outputs": [],
   "source": [
    "model_to_save = {\n",
    "    'models': {}\n",
    "}"
   ]
  },
  {
   "cell_type": "markdown",
   "metadata": {},
   "source": [
    "What is good or bad model? We can compare our model with constant solution. For instance median (optimal solution for MAE)."
   ]
  },
  {
   "cell_type": "code",
   "execution_count": 338,
   "metadata": {},
   "outputs": [
    {
     "name": "stdout",
     "output_type": "stream",
     "text": [
      "target_10\n",
      "stupid:\t0.4828611732670474\n",
      "model:\t0.23819738389506026\n",
      "\n",
      "target_30\n",
      "stupid:\t0.4308833460266637\n",
      "model:\t0.13800072772073058\n",
      "\n",
      "target_45\n",
      "stupid:\t0.40931313809300246\n",
      "model:\t0.1118790749514607\n",
      "\n",
      "target_60\n",
      "stupid:\t0.39275900730095853\n",
      "model:\t0.09540615212987488\n",
      "\n",
      "target_75\n",
      "stupid:\t0.37973470092526534\n",
      "model:\t0.08404532251398437\n",
      "\n"
     ]
    }
   ],
   "source": [
    "for position in target_positions:\n",
    "    model = catboost.CatBoostRegressor(\n",
    "        iterations=5000, \n",
    "        learning_rate=1.0, \n",
    "        loss_function='MAE',\n",
    "        random_seed = 27\n",
    "    )\n",
    "    model.fit(\n",
    "        X=df_train,\n",
    "        y=y_train['target_{}'.format(position)],\n",
    "        #X=X_all,\n",
    "        #y=y_all['target_{}'.format(position)],\n",
    "        use_best_model=True,\n",
    "        eval_set=(df_test, y_test['target_{}'.format(position)]),\n",
    "        verbose=False)\n",
    "    y_predict = model.predict(df_test)\n",
    "    \n",
    "    print('target_{}'.format(position))\n",
    "    print('stupid:\\t{}'.format(sMAPE(\n",
    "        y_test['target_{}'.format(position)],\n",
    "        y_train['target_{}'.format(position)].median())))\n",
    "    print('model:\\t{}'.format(sMAPE(\n",
    "        y_test['target_{}'.format(position)],\n",
    "        y_predict)))\n",
    "    print()\n",
    "    \n",
    "    model_to_save['models'][position] = model"
   ]
  },
  {
   "cell_type": "code",
   "execution_count": 323,
   "metadata": {},
   "outputs": [
    {
     "data": {
      "text/plain": [
       "{'random_seed': 27,\n",
       " 'loss_function': 'MAE',\n",
       " 'learning_rate': 1.0,\n",
       " 'iterations': 5000}"
      ]
     },
     "execution_count": 323,
     "metadata": {},
     "output_type": "execute_result"
    }
   ],
   "source": [
    "model.get_params()"
   ]
  },
  {
   "cell_type": "code",
   "execution_count": 297,
   "metadata": {},
   "outputs": [
    {
     "name": "stdout",
     "output_type": "stream",
     "text": [
      "10\n",
      "not 30\n",
      "not 45\n",
      "not 60\n",
      "not 75\n",
      "target_10\n",
      "stupid:\t0.582173151841312\n",
      "model:\t0.3097197086619267\n",
      "\n",
      "not 10\n",
      "30\n",
      "not 45\n",
      "not 60\n",
      "not 75\n",
      "target_30\n",
      "stupid:\t0.5388110900373055\n",
      "model:\t0.25066337596859284\n",
      "\n",
      "not 10\n",
      "not 30\n",
      "45\n",
      "not 60\n",
      "not 75\n",
      "target_45\n",
      "stupid:\t0.5280161445107636\n",
      "model:\t0.23213677351752926\n",
      "\n",
      "not 10\n",
      "not 30\n",
      "not 45\n",
      "60\n",
      "not 75\n",
      "target_60\n",
      "stupid:\t0.5090823344692388\n",
      "model:\t0.2182152603819293\n",
      "\n",
      "not 10\n",
      "not 30\n",
      "not 45\n",
      "not 60\n",
      "75\n",
      "target_75\n",
      "stupid:\t0.5070227037322823\n",
      "model:\t0.2067325321119251\n",
      "\n"
     ]
    }
   ],
   "source": [
    "for position in target_positions:\n",
    "    if str(position) == '10':\n",
    "        print('10')\n",
    "        model = catboost.CatBoostRegressor(iterations=2000, learning_rate=0.185, \n",
    "            depth = 4,\n",
    "            rsm=0.2,\n",
    "            l2_leaf_reg = 9,\n",
    "            loss_function='MAE', \n",
    "            random_seed=27)\n",
    "    else:\n",
    "        print('not 10')\n",
    "\n",
    "    if str(position) == '30':\n",
    "        print('30')\n",
    "        model = catboost.CatBoostRegressor(iterations=2000, learning_rate=0.2, \n",
    "            depth = 7,\n",
    "            rsm = 0.1,\n",
    "            loss_function='MAE', \n",
    "            random_seed=27)\n",
    "    else:\n",
    "        print('not 30')\n",
    "        \n",
    "    if str(position) == '45':\n",
    "        print('45')\n",
    "        model = catboost.CatBoostRegressor(iterations=2000, learning_rate=0.225, \n",
    "            depth = 5,\n",
    "            l2_leaf_reg = 8,\n",
    "            rsm = 1.0,\n",
    "            loss_function='MAE', \n",
    "            random_seed=27)\n",
    "    else:\n",
    "        print('not 45')\n",
    "        \n",
    "    if str(position) == '60':\n",
    "        print('60')\n",
    "        model = catboost.CatBoostRegressor(iterations=2000, learning_rate=0.275, \n",
    "            depth = 5,\n",
    "            l2_leaf_reg = 3,\n",
    "            rsm = 1.0,\n",
    "            loss_function='MAE', \n",
    "            random_seed=27)\n",
    "    else:\n",
    "        print('not 60')\n",
    "        \n",
    "    if str(position) == '75':\n",
    "        print('75')\n",
    "        model = catboost.CatBoostRegressor(iterations=2000, learning_rate=0.3, \n",
    "            depth = 5,\n",
    "            l2_leaf_reg = 7,\n",
    "            rsm = 1.0,\n",
    "            loss_function='MAE', \n",
    "            random_seed=27)\n",
    "    else:\n",
    "        print('not 75')\n",
    "\n",
    "    model.fit(\n",
    "            X_all,\n",
    "            y_all['target_{}'.format(position)],\n",
    "            #X=df_train,\n",
    "            #y=y_train['target_{}'.format(position)],\n",
    "            #use_best_model=True,\n",
    "            #eval_set=(df_test, y_test['target_{}'.format(position)]),\n",
    "            verbose=False)\n",
    "    y_predict = model.predict(df_test)\n",
    "    \n",
    "    print('target_{}'.format(position))\n",
    "    print('stupid:\\t{}'.format(sMAPE(\n",
    "        y_test['target_{}'.format(position)],\n",
    "        y_train['target_{}'.format(position)].median())))\n",
    "    print('model:\\t{}'.format(sMAPE(\n",
    "        y_test['target_{}'.format(position)],\n",
    "        y_predict)))\n",
    "    print()\n",
    "    \n",
    "    model_to_save['models'][position] = model"
   ]
  },
  {
   "cell_type": "markdown",
   "metadata": {},
   "source": [
    "Our model is better than constant solution. Saving model."
   ]
  },
  {
   "cell_type": "code",
   "execution_count": 339,
   "metadata": {},
   "outputs": [],
   "source": [
    "pickle.dump(model_to_save, open('models.pkl', 'wb'))"
   ]
  },
  {
   "cell_type": "code",
   "execution_count": 18,
   "metadata": {},
   "outputs": [
    {
     "data": {
      "text/plain": [
       "{'loss_function': 'MAE', 'learning_rate': 1.0, 'iterations': 2000}"
      ]
     },
     "execution_count": 18,
     "metadata": {},
     "output_type": "execute_result"
    }
   ],
   "source": [
    "model.get_params()"
   ]
  },
  {
   "cell_type": "code",
   "execution_count": 295,
   "metadata": {},
   "outputs": [
    {
     "name": "stdout",
     "output_type": "stream",
     "text": [
      "weekday: 1.0213571573942886\n",
      "hour: 27.404556962442875\n",
      "minute: 1.8617070290015951\n",
      "month: 0.2624193771380556\n",
      "is_night: 0.3181152711152566\n",
      "is_weekend: 1.0746050814760255\n",
      "num_orders_15_15: 1.4046844643747816\n",
      "num_orders_30_15: 0.08945171152889983\n",
      "num_orders_30_30: 0.09620485267218244\n",
      "num_orders_60_15: 0.06323692840826382\n",
      "num_orders_60_30: 0.14941474041207659\n",
      "num_orders_60_60: 1.6951367102803234\n",
      "num_orders_1440_15: 0.010007156706375793\n",
      "num_orders_1440_30: 0.1713318743390005\n",
      "num_orders_1440_60: 6.991810421254587\n",
      "num_orders_1440_1440: 9.030463911297906\n",
      "num_orders_2880_15: 0.002004196576478493\n",
      "num_orders_2880_30: 0.4302611029473824\n",
      "num_orders_2880_60: 6.152118529901491\n",
      "num_orders_2880_1440: 1.4116724315585756\n",
      "num_orders_2880_2880: 1.150300669500152\n",
      "num_orders_4320_15: 0.027259094669783015\n",
      "num_orders_4320_30: 0.3715284505019757\n",
      "num_orders_4320_60: 4.560903082064364\n",
      "num_orders_4320_1440: 2.487268305125261\n",
      "num_orders_4320_2880: 1.4321479958190728\n",
      "num_orders_10080_15: 0.0026604222987663432\n",
      "num_orders_10080_30: 0.6035059635462424\n",
      "num_orders_10080_60: 13.508275239530727\n",
      "num_orders_10080_1440: 0.430568881943856\n",
      "num_orders_10080_2880: 0.8129091554786908\n",
      "num_orders_10080_10080: 0.8437800018237245\n",
      "num_orders_20160_15: 0.006430933803188563\n",
      "num_orders_20160_30: 0.7250052061249876\n",
      "num_orders_20160_60: 6.722593225752535\n",
      "num_orders_20160_1440: 1.5090186139480637\n",
      "num_orders_20160_2880: 1.3266952980976978\n",
      "num_orders_20160_10080: 1.8318208472719675\n",
      "num_orders_20160_20160: 2.0067687018725464\n"
     ]
    }
   ],
   "source": [
    "for i in range(len(model.feature_importances_)):\n",
    "    print(model.feature_names_[i] + ': ' + str(model.feature_importances_[i]))"
   ]
  },
  {
   "cell_type": "code",
   "execution_count": null,
   "metadata": {},
   "outputs": [],
   "source": []
  }
 ],
 "metadata": {
  "kernelspec": {
   "display_name": "conda_pytorch_p36",
   "language": "python",
   "name": "conda_pytorch_p36"
  },
  "language_info": {
   "codemirror_mode": {
    "name": "ipython",
    "version": 3
   },
   "file_extension": ".py",
   "mimetype": "text/x-python",
   "name": "python",
   "nbconvert_exporter": "python",
   "pygments_lexer": "ipython3",
   "version": "3.6.5"
  },
  "toc": {
   "base_numbering": 1,
   "nav_menu": {},
   "number_sections": true,
   "sideBar": true,
   "skip_h1_title": false,
   "title_cell": "Table of Contents",
   "title_sidebar": "Contents",
   "toc_cell": false,
   "toc_position": {},
   "toc_section_display": true,
   "toc_window_display": false
  },
  "varInspector": {
   "cols": {
    "lenName": 16,
    "lenType": 16,
    "lenVar": 40
   },
   "kernels_config": {
    "python": {
     "delete_cmd_postfix": "",
     "delete_cmd_prefix": "del ",
     "library": "var_list.py",
     "varRefreshCmd": "print(var_dic_list())"
    },
    "r": {
     "delete_cmd_postfix": ") ",
     "delete_cmd_prefix": "rm(",
     "library": "var_list.r",
     "varRefreshCmd": "cat(var_dic_list()) "
    }
   },
   "types_to_exclude": [
    "module",
    "function",
    "builtin_function_or_method",
    "instance",
    "_Feature"
   ],
   "window_display": false
  }
 },
 "nbformat": 4,
 "nbformat_minor": 2
}
