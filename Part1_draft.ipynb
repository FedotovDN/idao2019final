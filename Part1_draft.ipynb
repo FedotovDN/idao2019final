{
 "cells": [
  {
   "cell_type": "markdown",
   "metadata": {},
   "source": [
    "# IDAO: expected time of orders in airports\n",
    "\n",
    "Airports are special points for taxi service. Every day a lot of people use a taxi to get to the city centre from the airport.\n",
    "\n",
    "One of important task is to predict how long a driver need to wait an order. It helps to understand what to do. Maybe the driver have to wait near doors, or can drink a tea, or even should drive to city center without an order.\n",
    "\n",
    "We request you to solve a simple version of this prediction task.\n",
    "\n",
    "**Task:** predict time of $k$ orders in airport (time since now when you get an order if you are $k$-th in queue), $k$ is one of 5 values (different for every airports).\n",
    "\n",
    "**Data**\n",
    "- train: number of order for every minutes for 6 months\n",
    "- test: every test sample has datetime info + numer of order for every minutes for last 2 weeks\n",
    "\n",
    "**Submission:** for every airport you should prepare a model which will be evaluated in submission system (code + model files). You can make different models for different airports.\n",
    "\n",
    "**Evaluation:** for every airport for every $k$ sMAPE will be calculated and averaged. General leaderboard will be calculated via Borda count. \n",
    "\n",
    "## Baseline"
   ]
  },
  {
   "cell_type": "code",
   "execution_count": 2,
   "metadata": {},
   "outputs": [
    {
     "name": "stdout",
     "output_type": "stream",
     "text": [
      "Collecting catboost\n",
      "\u001b[?25l  Downloading https://files.pythonhosted.org/packages/3e/62/b442e8d747e8a34ac8a981f7a4ff717c1f887aedb42c3f670660bda41af5/catboost-0.13.1-cp36-none-manylinux1_x86_64.whl (60.1MB)\n",
      "\u001b[K    100% |████████████████████████████████| 60.1MB 864kB/s eta 0:00:01\n",
      "\u001b[?25hRequirement already satisfied: six in /home/ec2-user/anaconda3/envs/pytorch_p36/lib/python3.6/site-packages (from catboost) (1.11.0)\n",
      "Requirement already satisfied: numpy>=1.11.1 in /home/ec2-user/anaconda3/envs/pytorch_p36/lib/python3.6/site-packages (from catboost) (1.15.4)\n",
      "Requirement already satisfied: pandas>=0.19.1 in /home/ec2-user/anaconda3/envs/pytorch_p36/lib/python3.6/site-packages (from catboost) (0.22.0)\n",
      "Collecting enum34 (from catboost)\n",
      "  Downloading https://files.pythonhosted.org/packages/af/42/cb9355df32c69b553e72a2e28daee25d1611d2c0d9c272aa1d34204205b2/enum34-1.1.6-py3-none-any.whl\n",
      "Requirement already satisfied: pytz>=2011k in /home/ec2-user/anaconda3/envs/pytorch_p36/lib/python3.6/site-packages (from pandas>=0.19.1->catboost) (2018.4)\n",
      "Requirement already satisfied: python-dateutil>=2 in /home/ec2-user/anaconda3/envs/pytorch_p36/lib/python3.6/site-packages (from pandas>=0.19.1->catboost) (2.7.3)\n",
      "\u001b[31mfastai 1.0.50.post1 requires nvidia-ml-py3, which is not installed.\u001b[0m\n",
      "\u001b[31mthinc 6.12.1 has requirement msgpack<0.6.0,>=0.5.6, but you'll have msgpack 0.6.0 which is incompatible.\u001b[0m\n",
      "Installing collected packages: enum34, catboost\n",
      "Successfully installed catboost-0.13.1 enum34-1.1.6\n",
      "\u001b[33mYou are using pip version 10.0.1, however version 19.0.3 is available.\n",
      "You should consider upgrading via the 'pip install --upgrade pip' command.\u001b[0m\n"
     ]
    }
   ],
   "source": [
    "!pip install catboost"
   ]
  },
  {
   "cell_type": "code",
   "execution_count": 25,
   "metadata": {},
   "outputs": [
    {
     "name": "stdout",
     "output_type": "stream",
     "text": [
      "Collecting xgboost\n",
      "\u001b[?25l  Downloading https://files.pythonhosted.org/packages/6a/49/7e10686647f741bd9c8918b0decdb94135b542fe372ca1100739b8529503/xgboost-0.82-py2.py3-none-manylinux1_x86_64.whl (114.0MB)\n",
      "\u001b[K    100% |████████████████████████████████| 114.0MB 465kB/s eta 0:00:01   23% |███████▌                        | 26.5MB 47.2MB/s eta 0:00:02\n",
      "\u001b[?25hRequirement already satisfied: scipy in /home/ec2-user/anaconda3/envs/pytorch_p36/lib/python3.6/site-packages (from xgboost) (1.1.0)\n",
      "Requirement already satisfied: numpy in /home/ec2-user/anaconda3/envs/pytorch_p36/lib/python3.6/site-packages (from xgboost) (1.15.4)\n",
      "\u001b[31mfastai 1.0.50.post1 requires nvidia-ml-py3, which is not installed.\u001b[0m\n",
      "\u001b[31mthinc 6.12.1 has requirement msgpack<0.6.0,>=0.5.6, but you'll have msgpack 0.6.0 which is incompatible.\u001b[0m\n",
      "Installing collected packages: xgboost\n",
      "Successfully installed xgboost-0.82\n",
      "\u001b[33mYou are using pip version 10.0.1, however version 19.0.3 is available.\n",
      "You should consider upgrading via the 'pip install --upgrade pip' command.\u001b[0m\n"
     ]
    }
   ],
   "source": [
    "!pip install xgboost"
   ]
  },
  {
   "cell_type": "code",
   "execution_count": 28,
   "metadata": {},
   "outputs": [
    {
     "name": "stdout",
     "output_type": "stream",
     "text": [
      "Collecting lightgbm\n",
      "\u001b[?25l  Downloading https://files.pythonhosted.org/packages/77/0f/5157e6b153b3d4a70dc5fbe2ab6f209604197590f387f03177b7a249ac60/lightgbm-2.2.3-py2.py3-none-manylinux1_x86_64.whl (1.2MB)\n",
      "\u001b[K    100% |████████████████████████████████| 1.2MB 24.0MB/s ta 0:00:01\n",
      "\u001b[?25hRequirement already satisfied: numpy in /home/ec2-user/anaconda3/envs/pytorch_p36/lib/python3.6/site-packages (from lightgbm) (1.15.4)\n",
      "Requirement already satisfied: scikit-learn in /home/ec2-user/anaconda3/envs/pytorch_p36/lib/python3.6/site-packages (from lightgbm) (0.19.1)\n",
      "Requirement already satisfied: scipy in /home/ec2-user/anaconda3/envs/pytorch_p36/lib/python3.6/site-packages (from lightgbm) (1.1.0)\n",
      "\u001b[31mfastai 1.0.50.post1 requires nvidia-ml-py3, which is not installed.\u001b[0m\n",
      "\u001b[31mthinc 6.12.1 has requirement msgpack<0.6.0,>=0.5.6, but you'll have msgpack 0.6.0 which is incompatible.\u001b[0m\n",
      "Installing collected packages: lightgbm\n",
      "Successfully installed lightgbm-2.2.3\n",
      "\u001b[33mYou are using pip version 10.0.1, however version 19.0.3 is available.\n",
      "You should consider upgrading via the 'pip install --upgrade pip' command.\u001b[0m\n"
     ]
    }
   ],
   "source": [
    "!pip install lightgbm"
   ]
  },
  {
   "cell_type": "code",
   "execution_count": 3,
   "metadata": {},
   "outputs": [
    {
     "name": "stdout",
     "output_type": "stream",
     "text": [
      "Populating the interactive namespace from numpy and matplotlib\n"
     ]
    }
   ],
   "source": [
    "%pylab inline\n",
    "\n",
    "import catboost\n",
    "import pandas as pd\n",
    "import pickle\n",
    "import tqdm"
   ]
  },
  {
   "cell_type": "markdown",
   "metadata": {},
   "source": [
    "Let's prepare a model for set2."
   ]
  },
  {
   "cell_type": "markdown",
   "metadata": {},
   "source": [
    "# Load train dataset"
   ]
  },
  {
   "cell_type": "code",
   "execution_count": 81,
   "metadata": {},
   "outputs": [
    {
     "data": {
      "text/html": [
       "<div>\n",
       "<style scoped>\n",
       "    .dataframe tbody tr th:only-of-type {\n",
       "        vertical-align: middle;\n",
       "    }\n",
       "\n",
       "    .dataframe tbody tr th {\n",
       "        vertical-align: top;\n",
       "    }\n",
       "\n",
       "    .dataframe thead th {\n",
       "        text-align: right;\n",
       "    }\n",
       "</style>\n",
       "<table border=\"1\" class=\"dataframe\">\n",
       "  <thead>\n",
       "    <tr style=\"text-align: right;\">\n",
       "      <th></th>\n",
       "      <th>datetime</th>\n",
       "      <th>num_orders</th>\n",
       "    </tr>\n",
       "  </thead>\n",
       "  <tbody>\n",
       "    <tr>\n",
       "      <th>0</th>\n",
       "      <td>2018-03-01 00:00:00</td>\n",
       "      <td>0</td>\n",
       "    </tr>\n",
       "    <tr>\n",
       "      <th>1</th>\n",
       "      <td>2018-03-01 00:01:00</td>\n",
       "      <td>0</td>\n",
       "    </tr>\n",
       "    <tr>\n",
       "      <th>2</th>\n",
       "      <td>2018-03-01 00:02:00</td>\n",
       "      <td>0</td>\n",
       "    </tr>\n",
       "    <tr>\n",
       "      <th>3</th>\n",
       "      <td>2018-03-01 00:03:00</td>\n",
       "      <td>0</td>\n",
       "    </tr>\n",
       "    <tr>\n",
       "      <th>4</th>\n",
       "      <td>2018-03-01 00:04:00</td>\n",
       "      <td>1</td>\n",
       "    </tr>\n",
       "  </tbody>\n",
       "</table>\n",
       "</div>"
      ],
      "text/plain": [
       "             datetime  num_orders\n",
       "0 2018-03-01 00:00:00           0\n",
       "1 2018-03-01 00:01:00           0\n",
       "2 2018-03-01 00:02:00           0\n",
       "3 2018-03-01 00:03:00           0\n",
       "4 2018-03-01 00:04:00           1"
      ]
     },
     "execution_count": 81,
     "metadata": {},
     "output_type": "execute_result"
    }
   ],
   "source": [
    "set_name = 'set1'\n",
    "path_train_set = '../../data/train/{}.csv'.format(set_name)\n",
    "\n",
    "data = pd.read_csv(path_train_set)\n",
    "data.datetime = data.datetime.apply(\n",
    "    lambda x: datetime.datetime.strptime(x, '%Y-%m-%d %H:%M:%S'))\n",
    "data = data.sort_values('datetime')\n",
    "data.head()"
   ]
  },
  {
   "cell_type": "markdown",
   "metadata": {},
   "source": [
    "Predict position for set2."
   ]
  },
  {
   "cell_type": "code",
   "execution_count": 82,
   "metadata": {},
   "outputs": [],
   "source": [
    "target_positions = {\n",
    "    'set1': [10, 30, 45, 60, 75],\n",
    "    'set2': [5, 10, 15, 20, 25],\n",
    "    'set3': [5, 7, 9, 11, 13]\n",
    "}[set_name]"
   ]
  },
  {
   "cell_type": "markdown",
   "metadata": {},
   "source": [
    "Some useful constant."
   ]
  },
  {
   "cell_type": "code",
   "execution_count": 83,
   "metadata": {},
   "outputs": [],
   "source": [
    "HOUR_IN_MINUTES = 60\n",
    "DAY_IN_MINUTES = 24 * HOUR_IN_MINUTES\n",
    "WEEK_IN_MINUTES = 7 * DAY_IN_MINUTES\n",
    "\n",
    "MAX_TIME = DAY_IN_MINUTES"
   ]
  },
  {
   "cell_type": "markdown",
   "metadata": {},
   "source": [
    "## Generate train samples with targets"
   ]
  },
  {
   "cell_type": "markdown",
   "metadata": {},
   "source": [
    "We have only history of orders (count of orders in every minutes) but we need to predict time of k orders since current minutes. So we should calculate target for train set. Also we will make a lot of samples from all set (we can only use two weeks of history while prediction so we can use only two weeks in every train sample)."
   ]
  },
  {
   "cell_type": "code",
   "execution_count": 84,
   "metadata": {},
   "outputs": [],
   "source": [
    "samples = {\n",
    "    'datetime': [],\n",
    "    'history': []}\n",
    "\n",
    "for position in target_positions:\n",
    "    samples['target_{}'.format(position)] = []\n",
    "    \n",
    "num_orders = data.num_orders.values"
   ]
  },
  {
   "cell_type": "markdown",
   "metadata": {},
   "source": [
    "To calculate target (minutes before k orders) we are going to use cumulative sum of orders. "
   ]
  },
  {
   "cell_type": "code",
   "execution_count": 85,
   "metadata": {},
   "outputs": [
    {
     "data": {
      "text/plain": [
       "[10, 30, 45, 60, 75]"
      ]
     },
     "execution_count": 85,
     "metadata": {},
     "output_type": "execute_result"
    }
   ],
   "source": [
    "target_positions"
   ]
  },
  {
   "cell_type": "code",
   "execution_count": 86,
   "metadata": {},
   "outputs": [],
   "source": [
    "# start after 2 weeks because of history\n",
    "# finish earlier because of target calculation\n",
    "for i in range(2 * WEEK_IN_MINUTES,\n",
    "               len(num_orders) - 2 * DAY_IN_MINUTES):\n",
    "    \n",
    "    samples['datetime'].append(data.datetime[i])\n",
    "    samples['history'].append(num_orders[i-2*WEEK_IN_MINUTES:i])\n",
    "    \n",
    "    # cumsum not for all array because of time economy\n",
    "    cumsum_num_orders = num_orders[i+1:i+1+2*DAY_IN_MINUTES].cumsum()\n",
    "    for position in target_positions:\n",
    "        orders_by_positions = np.where(cumsum_num_orders >= position)[0]\n",
    "        if len(orders_by_positions):\n",
    "            time = orders_by_positions[0] + 1\n",
    "        else:\n",
    "            # if no orders in last days\n",
    "            time = MAX_TIME\n",
    "        samples['target_{}'.format(position)].append(time)"
   ]
  },
  {
   "cell_type": "markdown",
   "metadata": {},
   "source": [
    "Convert to pandas.dataframe. Now we have targets to train and predict."
   ]
  },
  {
   "cell_type": "code",
   "execution_count": 127,
   "metadata": {},
   "outputs": [
    {
     "data": {
      "text/html": [
       "<div>\n",
       "<style scoped>\n",
       "    .dataframe tbody tr th:only-of-type {\n",
       "        vertical-align: middle;\n",
       "    }\n",
       "\n",
       "    .dataframe tbody tr th {\n",
       "        vertical-align: top;\n",
       "    }\n",
       "\n",
       "    .dataframe thead th {\n",
       "        text-align: right;\n",
       "    }\n",
       "</style>\n",
       "<table border=\"1\" class=\"dataframe\">\n",
       "  <thead>\n",
       "    <tr style=\"text-align: right;\">\n",
       "      <th></th>\n",
       "      <th>datetime</th>\n",
       "      <th>history</th>\n",
       "      <th>target_10</th>\n",
       "      <th>target_30</th>\n",
       "      <th>target_45</th>\n",
       "      <th>target_60</th>\n",
       "      <th>target_75</th>\n",
       "    </tr>\n",
       "  </thead>\n",
       "  <tbody>\n",
       "    <tr>\n",
       "      <th>0</th>\n",
       "      <td>2018-03-15 00:00:00</td>\n",
       "      <td>[0, 0, 0, 0, 1, 2, 0, 1, 1, 4, 0, 1, 1, 1, 1, ...</td>\n",
       "      <td>5</td>\n",
       "      <td>18</td>\n",
       "      <td>28</td>\n",
       "      <td>32</td>\n",
       "      <td>42</td>\n",
       "    </tr>\n",
       "    <tr>\n",
       "      <th>1</th>\n",
       "      <td>2018-03-15 00:01:00</td>\n",
       "      <td>[0, 0, 0, 1, 2, 0, 1, 1, 4, 0, 1, 1, 1, 1, 3, ...</td>\n",
       "      <td>5</td>\n",
       "      <td>19</td>\n",
       "      <td>27</td>\n",
       "      <td>32</td>\n",
       "      <td>42</td>\n",
       "    </tr>\n",
       "    <tr>\n",
       "      <th>2</th>\n",
       "      <td>2018-03-15 00:02:00</td>\n",
       "      <td>[0, 0, 1, 2, 0, 1, 1, 4, 0, 1, 1, 1, 1, 3, 2, ...</td>\n",
       "      <td>7</td>\n",
       "      <td>20</td>\n",
       "      <td>27</td>\n",
       "      <td>33</td>\n",
       "      <td>43</td>\n",
       "    </tr>\n",
       "    <tr>\n",
       "      <th>3</th>\n",
       "      <td>2018-03-15 00:03:00</td>\n",
       "      <td>[0, 1, 2, 0, 1, 1, 4, 0, 1, 1, 1, 1, 3, 2, 3, ...</td>\n",
       "      <td>7</td>\n",
       "      <td>21</td>\n",
       "      <td>26</td>\n",
       "      <td>35</td>\n",
       "      <td>42</td>\n",
       "    </tr>\n",
       "    <tr>\n",
       "      <th>4</th>\n",
       "      <td>2018-03-15 00:04:00</td>\n",
       "      <td>[1, 2, 0, 1, 1, 4, 0, 1, 1, 1, 1, 3, 2, 3, 1, ...</td>\n",
       "      <td>7</td>\n",
       "      <td>20</td>\n",
       "      <td>26</td>\n",
       "      <td>35</td>\n",
       "      <td>42</td>\n",
       "    </tr>\n",
       "  </tbody>\n",
       "</table>\n",
       "</div>"
      ],
      "text/plain": [
       "             datetime                                            history  \\\n",
       "0 2018-03-15 00:00:00  [0, 0, 0, 0, 1, 2, 0, 1, 1, 4, 0, 1, 1, 1, 1, ...   \n",
       "1 2018-03-15 00:01:00  [0, 0, 0, 1, 2, 0, 1, 1, 4, 0, 1, 1, 1, 1, 3, ...   \n",
       "2 2018-03-15 00:02:00  [0, 0, 1, 2, 0, 1, 1, 4, 0, 1, 1, 1, 1, 3, 2, ...   \n",
       "3 2018-03-15 00:03:00  [0, 1, 2, 0, 1, 1, 4, 0, 1, 1, 1, 1, 3, 2, 3, ...   \n",
       "4 2018-03-15 00:04:00  [1, 2, 0, 1, 1, 4, 0, 1, 1, 1, 1, 3, 2, 3, 1, ...   \n",
       "\n",
       "   target_10  target_30  target_45  target_60  target_75  \n",
       "0          5         18         28         32         42  \n",
       "1          5         19         27         32         42  \n",
       "2          7         20         27         33         43  \n",
       "3          7         21         26         35         42  \n",
       "4          7         20         26         35         42  "
      ]
     },
     "execution_count": 127,
     "metadata": {},
     "output_type": "execute_result"
    }
   ],
   "source": [
    "df = pd.DataFrame.from_dict(samples)\n",
    "df.head()"
   ]
  },
  {
   "cell_type": "markdown",
   "metadata": {},
   "source": [
    "# Train model"
   ]
  },
  {
   "cell_type": "markdown",
   "metadata": {},
   "source": [
    "Let's generate simple features.\n",
    "\n",
    "By time:"
   ]
  },
  {
   "cell_type": "code",
   "execution_count": 128,
   "metadata": {},
   "outputs": [],
   "source": [
    "df['weekday'] = df.datetime.apply(lambda x: x.weekday())\n",
    "df['hour'] = df.datetime.apply(lambda x: x.hour)\n",
    "df['minute'] = df.datetime.apply(lambda x: x.minute)\n",
    "df['month'] = df.datetime.apply(lambda x: x.month)\n",
    "df['is_night'] = df.datetime.apply(lambda x: 1.0 if (x.hour < 6) else 0.0)\n",
    "df['is_weekend'] = df.datetime.apply(lambda x: 1.0 if (x.weekday() >=5)\n",
    "                              or ((x.day == 23) and (x.month == 2))\n",
    "                              or ((x.day == 8) and (x.month == 3))\n",
    "                              or ((x.day == 9) and (x.month == 3))\n",
    "                              or ((x.day == 30) and (x.month == 4))\n",
    "                              or ((x.day == 1) and (x.month == 5))\n",
    "                              or ((x.day == 2) and (x.month == 5))\n",
    "                              or ((x.day == 9) and (x.month == 5))\n",
    "                              or ((x.day == 11) and (x.month == 6))\n",
    "                              or ((x.day == 12) and (x.month == 6))\n",
    "                             else 0.0)"
   ]
  },
  {
   "cell_type": "markdown",
   "metadata": {},
   "source": [
    "Aggregators by order history with different shift and window size:"
   ]
  },
  {
   "cell_type": "code",
   "execution_count": 129,
   "metadata": {},
   "outputs": [],
   "source": [
    "SHIFTS = [\n",
    "    HOUR_IN_MINUTES // 4,\n",
    "    HOUR_IN_MINUTES // 2,\n",
    "    HOUR_IN_MINUTES,\n",
    "    DAY_IN_MINUTES,\n",
    "    DAY_IN_MINUTES * 2,\n",
    "    WEEK_IN_MINUTES,\n",
    "    WEEK_IN_MINUTES * 2\n",
    "]\n",
    "WINDOWS = [\n",
    "    HOUR_IN_MINUTES // 4,\n",
    "    HOUR_IN_MINUTES // 2,\n",
    "    HOUR_IN_MINUTES,\n",
    "    DAY_IN_MINUTES,\n",
    "    DAY_IN_MINUTES * 2,\n",
    "    WEEK_IN_MINUTES,\n",
    "    WEEK_IN_MINUTES * 2\n",
    "]"
   ]
  },
  {
   "cell_type": "code",
   "execution_count": 130,
   "metadata": {},
   "outputs": [],
   "source": [
    "for shift in SHIFTS:\n",
    "    for window in WINDOWS:\n",
    "        if window > shift:\n",
    "            continue\n",
    "        df['num_orders_{}_{}'.format(shift, window)] = \\\n",
    "            df.history.apply(lambda x: x[-shift : -shift + window].sum())"
   ]
  },
  {
   "cell_type": "code",
   "execution_count": 160,
   "metadata": {},
   "outputs": [
    {
     "data": {
      "text/plain": [
       "['datetime',\n",
       " 'history',\n",
       " 'target_10',\n",
       " 'target_30',\n",
       " 'target_45',\n",
       " 'target_60',\n",
       " 'target_75',\n",
       " 'weekday',\n",
       " 'hour',\n",
       " 'minute',\n",
       " 'month',\n",
       " 'is_night',\n",
       " 'is_weekend',\n",
       " 'num_orders_15_15',\n",
       " 'num_orders_30_15',\n",
       " 'num_orders_30_30',\n",
       " 'num_orders_60_15',\n",
       " 'num_orders_60_30',\n",
       " 'num_orders_60_60',\n",
       " 'num_orders_1440_15',\n",
       " 'num_orders_1440_30',\n",
       " 'num_orders_1440_60',\n",
       " 'num_orders_1440_1440',\n",
       " 'num_orders_2880_15',\n",
       " 'num_orders_2880_30',\n",
       " 'num_orders_2880_60',\n",
       " 'num_orders_2880_1440',\n",
       " 'num_orders_2880_2880',\n",
       " 'num_orders_10080_15',\n",
       " 'num_orders_10080_30',\n",
       " 'num_orders_10080_60',\n",
       " 'num_orders_10080_1440',\n",
       " 'num_orders_10080_2880',\n",
       " 'num_orders_10080_10080',\n",
       " 'num_orders_20160_15',\n",
       " 'num_orders_20160_30',\n",
       " 'num_orders_20160_60',\n",
       " 'num_orders_20160_1440',\n",
       " 'num_orders_20160_2880',\n",
       " 'num_orders_20160_10080',\n",
       " 'num_orders_20160_20160']"
      ]
     },
     "execution_count": 160,
     "metadata": {},
     "output_type": "execute_result"
    }
   ],
   "source": [
    "list(df)"
   ]
  },
  {
   "cell_type": "code",
   "execution_count": null,
   "metadata": {},
   "outputs": [],
   "source": [
    "df['hh00'] = df.history.apply(lambda x: x[-1440 : -1380].sum())"
   ]
  },
  {
   "cell_type": "code",
   "execution_count": 153,
   "metadata": {},
   "outputs": [],
   "source": [
    "sum_10 = df.groupby(['hour'])['target_10'].sum().reset_index()"
   ]
  },
  {
   "cell_type": "code",
   "execution_count": 155,
   "metadata": {},
   "outputs": [],
   "source": [
    "temp = pd.merge(df, sum_10, how='left', on=['hour'])"
   ]
  },
  {
   "cell_type": "code",
   "execution_count": 156,
   "metadata": {},
   "outputs": [
    {
     "data": {
      "text/html": [
       "<div>\n",
       "<style scoped>\n",
       "    .dataframe tbody tr th:only-of-type {\n",
       "        vertical-align: middle;\n",
       "    }\n",
       "\n",
       "    .dataframe tbody tr th {\n",
       "        vertical-align: top;\n",
       "    }\n",
       "\n",
       "    .dataframe thead th {\n",
       "        text-align: right;\n",
       "    }\n",
       "</style>\n",
       "<table border=\"1\" class=\"dataframe\">\n",
       "  <thead>\n",
       "    <tr style=\"text-align: right;\">\n",
       "      <th></th>\n",
       "      <th>datetime</th>\n",
       "      <th>history</th>\n",
       "      <th>target_10_x</th>\n",
       "      <th>target_30</th>\n",
       "      <th>target_45</th>\n",
       "      <th>target_60</th>\n",
       "      <th>target_75</th>\n",
       "      <th>weekday</th>\n",
       "      <th>hour</th>\n",
       "      <th>minute</th>\n",
       "      <th>...</th>\n",
       "      <th>num_orders_10080_2880</th>\n",
       "      <th>num_orders_10080_10080</th>\n",
       "      <th>num_orders_20160_15</th>\n",
       "      <th>num_orders_20160_30</th>\n",
       "      <th>num_orders_20160_60</th>\n",
       "      <th>num_orders_20160_1440</th>\n",
       "      <th>num_orders_20160_2880</th>\n",
       "      <th>num_orders_20160_10080</th>\n",
       "      <th>num_orders_20160_20160</th>\n",
       "      <th>target_10_y</th>\n",
       "    </tr>\n",
       "  </thead>\n",
       "  <tbody>\n",
       "    <tr>\n",
       "      <th>0</th>\n",
       "      <td>2018-03-15 00:00:00</td>\n",
       "      <td>[0, 0, 0, 0, 1, 2, 0, 1, 1, 4, 0, 1, 1, 1, 1, ...</td>\n",
       "      <td>5</td>\n",
       "      <td>18</td>\n",
       "      <td>28</td>\n",
       "      <td>32</td>\n",
       "      <td>42</td>\n",
       "      <td>3</td>\n",
       "      <td>0</td>\n",
       "      <td>0</td>\n",
       "      <td>...</td>\n",
       "      <td>2735</td>\n",
       "      <td>0</td>\n",
       "      <td>13</td>\n",
       "      <td>51</td>\n",
       "      <td>124</td>\n",
       "      <td>1364</td>\n",
       "      <td>2870</td>\n",
       "      <td>9110</td>\n",
       "      <td>0</td>\n",
       "      <td>52367</td>\n",
       "    </tr>\n",
       "    <tr>\n",
       "      <th>1</th>\n",
       "      <td>2018-03-15 00:01:00</td>\n",
       "      <td>[0, 0, 0, 1, 2, 0, 1, 1, 4, 0, 1, 1, 1, 1, 3, ...</td>\n",
       "      <td>5</td>\n",
       "      <td>19</td>\n",
       "      <td>27</td>\n",
       "      <td>32</td>\n",
       "      <td>42</td>\n",
       "      <td>3</td>\n",
       "      <td>0</td>\n",
       "      <td>1</td>\n",
       "      <td>...</td>\n",
       "      <td>2735</td>\n",
       "      <td>0</td>\n",
       "      <td>16</td>\n",
       "      <td>53</td>\n",
       "      <td>126</td>\n",
       "      <td>1364</td>\n",
       "      <td>2872</td>\n",
       "      <td>9111</td>\n",
       "      <td>0</td>\n",
       "      <td>52367</td>\n",
       "    </tr>\n",
       "  </tbody>\n",
       "</table>\n",
       "<p>2 rows × 42 columns</p>\n",
       "</div>"
      ],
      "text/plain": [
       "             datetime                                            history  \\\n",
       "0 2018-03-15 00:00:00  [0, 0, 0, 0, 1, 2, 0, 1, 1, 4, 0, 1, 1, 1, 1, ...   \n",
       "1 2018-03-15 00:01:00  [0, 0, 0, 1, 2, 0, 1, 1, 4, 0, 1, 1, 1, 1, 3, ...   \n",
       "\n",
       "   target_10_x  target_30  target_45  target_60  target_75  weekday  hour  \\\n",
       "0            5         18         28         32         42        3     0   \n",
       "1            5         19         27         32         42        3     0   \n",
       "\n",
       "   minute     ...       num_orders_10080_2880  num_orders_10080_10080  \\\n",
       "0       0     ...                        2735                       0   \n",
       "1       1     ...                        2735                       0   \n",
       "\n",
       "   num_orders_20160_15  num_orders_20160_30  num_orders_20160_60  \\\n",
       "0                   13                   51                  124   \n",
       "1                   16                   53                  126   \n",
       "\n",
       "   num_orders_20160_1440  num_orders_20160_2880  num_orders_20160_10080  \\\n",
       "0                   1364                   2870                    9110   \n",
       "1                   1364                   2872                    9111   \n",
       "\n",
       "   num_orders_20160_20160  target_10_y  \n",
       "0                       0        52367  \n",
       "1                       0        52367  \n",
       "\n",
       "[2 rows x 42 columns]"
      ]
     },
     "execution_count": 156,
     "metadata": {},
     "output_type": "execute_result"
    }
   ],
   "source": [
    "temp.head(2)"
   ]
  },
  {
   "cell_type": "markdown",
   "metadata": {},
   "source": [
    "Train/validation split for time. Let's use last 4 weeks for validation."
   ]
  },
  {
   "cell_type": "code",
   "execution_count": 131,
   "metadata": {},
   "outputs": [
    {
     "data": {
      "text/plain": [
       "(Timestamp('2018-03-15 00:00:00'), Timestamp('2018-08-29 23:59:00'))"
      ]
     },
     "execution_count": 131,
     "metadata": {},
     "output_type": "execute_result"
    }
   ],
   "source": [
    "df.datetime.min(), df.datetime.max()"
   ]
  },
  {
   "cell_type": "code",
   "execution_count": 142,
   "metadata": {},
   "outputs": [],
   "source": [
    "df_train = df.loc[df.datetime <= df.datetime.max() - datetime.timedelta(days=28)]\n",
    "df_test = df.loc[df.datetime > df.datetime.max() - datetime.timedelta(days=28)]\n",
    "#from sklearn.model_selection import train_test_split\n",
    "#df_train, df_test = train_test_split(df, test_size=0.2, shuffle=True)"
   ]
  },
  {
   "cell_type": "code",
   "execution_count": 143,
   "metadata": {},
   "outputs": [],
   "source": [
    "target_cols = ['target_{}'.format(position) for position in target_positions]\n",
    "\n",
    "y_train = df_train[target_cols]\n",
    "y_test = df_test[target_cols]\n",
    "\n",
    "X_all = df.drop(['datetime', 'history'] + target_cols, axis=1)\n",
    "y_all = df[target_cols]\n",
    "\n",
    "df_train = df_train.drop(['datetime', 'history'] + target_cols, axis=1)#[USE_COLUMNS]\n",
    "df_test = df_test.drop(['datetime', 'history'] + target_cols, axis=1)#[USE_COLUMNS]"
   ]
  },
  {
   "cell_type": "code",
   "execution_count": 144,
   "metadata": {},
   "outputs": [],
   "source": [
    "def sMAPE(y_true, y_predict, shift=0):\n",
    "    return 2 * np.mean(\n",
    "        np.abs(y_true - y_predict) /\n",
    "        (np.abs(y_true) + np.abs(y_predict) + shift))"
   ]
  },
  {
   "cell_type": "markdown",
   "metadata": {},
   "source": [
    "Also we will save models for prediction stage."
   ]
  },
  {
   "cell_type": "code",
   "execution_count": 145,
   "metadata": {},
   "outputs": [],
   "source": [
    "model_to_save = {\n",
    "    'models': {}\n",
    "}"
   ]
  },
  {
   "cell_type": "markdown",
   "metadata": {},
   "source": [
    "What is good or bad model? We can compare our model with constant solution. For instance median (optimal solution for MAE)."
   ]
  },
  {
   "cell_type": "markdown",
   "metadata": {},
   "source": [
    "# Catboost"
   ]
  },
  {
   "cell_type": "markdown",
   "metadata": {},
   "source": [
    "## target_10"
   ]
  },
  {
   "cell_type": "code",
   "execution_count": 30,
   "metadata": {},
   "outputs": [
    {
     "name": "stdout",
     "output_type": "stream",
     "text": [
      "v_depth=3: 0.3407250093994297\n",
      "v_depth=4: 0.3376348871430672\n",
      "v_depth=5: 0.3399467150445846\n",
      "v_depth=6: 0.3401358336005973\n",
      "v_depth=7: 0.3421795583495161\n",
      "v_depth=8: 0.3418284449381795\n",
      "v_depth=9: 0.3423852705892325\n",
      "v_depth=10: 0.3401323037240509\n",
      "v_depth=11: 0.3430035894506455\n",
      "CPU times: user 4min 58s, sys: 32.4 s, total: 5min 30s\n",
      "Wall time: 3min 42s\n"
     ]
    }
   ],
   "source": [
    "%%time\n",
    "for v_depth in range(3, 12, 1):\n",
    "    model = catboost.CatBoostRegressor(\n",
    "        iterations=2000, learning_rate=1.0, \n",
    "        depth = v_depth,\n",
    "        l2_leaf_reg = 9,\n",
    "        rsm = 0.2,\n",
    "        \n",
    "        loss_function='MAE', \n",
    "        early_stopping_rounds = 90, random_seed=27)\n",
    "   \n",
    "    model.fit(\n",
    "        X=df_train,\n",
    "        y=y_train['target_10'],\n",
    "        use_best_model=True,\n",
    "        eval_set=(df_test, y_test['target_10']),        \n",
    "        verbose=False\n",
    "    )\n",
    "    y_predict = model.predict(df_test.values)\n",
    "    print('v_depth=' + str(v_depth) + ': ' + str(sMAPE(y_test['target_10'], y_predict)))"
   ]
  },
  {
   "cell_type": "code",
   "execution_count": 31,
   "metadata": {},
   "outputs": [
    {
     "name": "stdout",
     "output_type": "stream",
     "text": [
      "v_l2_leaf_reg=1: 0.33899264269555335\n",
      "v_l2_leaf_reg=2: 0.33912953502706583\n",
      "v_l2_leaf_reg=3: 0.3421593573708883\n",
      "v_l2_leaf_reg=4: 0.3393027398941565\n",
      "v_l2_leaf_reg=5: 0.33792551394088705\n",
      "v_l2_leaf_reg=6: 0.3391940684026751\n",
      "v_l2_leaf_reg=7: 0.3392409598962607\n",
      "v_l2_leaf_reg=8: 0.33955300983103176\n",
      "v_l2_leaf_reg=9: 0.3376348871430672\n",
      "CPU times: user 3min 53s, sys: 28.8 s, total: 4min 21s\n",
      "Wall time: 3min 32s\n"
     ]
    }
   ],
   "source": [
    "%%time\n",
    "for v_l2_leaf_reg in range(1, 10, 1):\n",
    "    model = catboost.CatBoostRegressor(\n",
    "        iterations=2000, learning_rate=1.0, \n",
    "        depth = 4,\n",
    "        rsm=0.2,\n",
    "        l2_leaf_reg = v_l2_leaf_reg,\n",
    "        loss_function='MAE', \n",
    "        early_stopping_rounds = 90, random_seed=27)\n",
    "    \n",
    "    model.fit(\n",
    "        X=df_train,\n",
    "        y=y_train['target_10'],\n",
    "        use_best_model=True,\n",
    "        eval_set=(df_test, y_test['target_10']),        \n",
    "        verbose=False\n",
    "    )\n",
    "    y_predict = model.predict(df_test.values)\n",
    "    print('v_l2_leaf_reg=' + str(v_l2_leaf_reg) + ': ' + str(sMAPE(y_test['target_10'], y_predict)))"
   ]
  },
  {
   "cell_type": "code",
   "execution_count": 29,
   "metadata": {},
   "outputs": [
    {
     "name": "stdout",
     "output_type": "stream",
     "text": [
      "v_rsm=1: 0.3394996586258325\n",
      "v_rsm=2: 0.3376348871430672\n",
      "v_rsm=3: 0.3394945870782449\n",
      "v_rsm=4: 0.33827531731932686\n",
      "v_rsm=5: 0.33956122708702935\n",
      "v_rsm=6: 0.34008802966161017\n",
      "v_rsm=7: 0.3400869348342845\n",
      "v_rsm=8: 0.33828824715886757\n",
      "v_rsm=9: 0.3395698672528007\n",
      "v_rsm=10: 0.3379209967795093\n"
     ]
    }
   ],
   "source": [
    "for v_rsm in range(1, 11, 1):\n",
    "    model = catboost.CatBoostRegressor(\n",
    "        iterations=2000, learning_rate=1.0, \n",
    "        depth = 4,\n",
    "        l2_leaf_reg = 9,\n",
    "        rsm = v_rsm/10.0,\n",
    "        loss_function='MAE', \n",
    "        early_stopping_rounds = 90, random_seed=27)\n",
    "    \n",
    "    model.fit(\n",
    "        X=df_train,\n",
    "        y=y_train['target_10'],\n",
    "        use_best_model=True,\n",
    "        eval_set=(df_test, y_test['target_10']),        \n",
    "        verbose=False\n",
    "    )\n",
    "    y_predict = model.predict(df_test.values)\n",
    "    print('v_rsm=' + str(v_rsm) + ': ' + str(sMAPE(y_test['target_10'], y_predict)))"
   ]
  },
  {
   "cell_type": "code",
   "execution_count": 110,
   "metadata": {},
   "outputs": [
    {
     "name": "stdout",
     "output_type": "stream",
     "text": [
      "0.33084618503134244\n"
     ]
    }
   ],
   "source": [
    "model = catboost.CatBoostRegressor(\n",
    "        iterations=5000, learning_rate=0.065, \n",
    "    #iterations=2000, learning_rate=0.185, \n",
    "    #0.25 - 0.3480764023878587\n",
    "    #0.2 - 0.3422943987201056\n",
    "    #0.1 - 0.3430843793177033\n",
    "    #0.15 - 0.34139884443162544\n",
    "    #0.175 - 0.3408655647346902\n",
    "    ####0.185 - 0.3402415746271159\n",
    "    #0.19 - 0.34074440162565656\n",
    "    ##____on 5000_______\n",
    "    #0.3385978767318361 (0.065)\n",
    "        #depth = 4,\n",
    "        #rsm=0.2,\n",
    "        #l2_leaf_reg = 9,\n",
    "    depth = 6,\n",
    "        #l2_leaf_reg = 9,\n",
    "        #rsm = 0.5,\n",
    "        loss_function='MAE', \n",
    "    thread_count = 8,\n",
    "        random_seed=27)\n",
    "    \n",
    "model.fit(\n",
    "        X=df_train,\n",
    "        y=y_train['target_10'],\n",
    "        #use_best_model=True,\n",
    "        #eval_set=(df_test, y_test['target_10']),        \n",
    "        verbose=False\n",
    "    )\n",
    "y_predict = model.predict(df_test)\n",
    "print(sMAPE(y_test['target_10'], y_predict))"
   ]
  },
  {
   "cell_type": "markdown",
   "metadata": {},
   "source": [
    "## target_30"
   ]
  },
  {
   "cell_type": "code",
   "execution_count": 40,
   "metadata": {},
   "outputs": [
    {
     "name": "stdout",
     "output_type": "stream",
     "text": [
      "v_depth=3: 0.27341783822677757\n",
      "v_depth=4: 0.2747439730593105\n",
      "v_depth=5: 0.2734742809257496\n",
      "v_depth=6: 0.2755386514275678\n",
      "v_depth=7: 0.27171242838737825\n"
     ]
    },
    {
     "ename": "KeyboardInterrupt",
     "evalue": "",
     "output_type": "error",
     "traceback": [
      "\u001b[0;31m---------------------------------------------------------------------------\u001b[0m",
      "\u001b[0;31mKeyboardInterrupt\u001b[0m                         Traceback (most recent call last)",
      "\u001b[0;32m<timed exec>\u001b[0m in \u001b[0;36m<module>\u001b[0;34m()\u001b[0m\n",
      "\u001b[0;32m~/anaconda3/envs/pytorch_p36/lib/python3.6/site-packages/catboost/core.py\u001b[0m in \u001b[0;36mfit\u001b[0;34m(self, X, y, cat_features, sample_weight, baseline, use_best_model, eval_set, verbose, logging_level, plot, column_description, verbose_eval, metric_period, silent, early_stopping_rounds, save_snapshot, snapshot_file, snapshot_interval)\u001b[0m\n\u001b[1;32m   2699\u001b[0m                          \u001b[0muse_best_model\u001b[0m\u001b[0;34m,\u001b[0m \u001b[0meval_set\u001b[0m\u001b[0;34m,\u001b[0m \u001b[0mverbose\u001b[0m\u001b[0;34m,\u001b[0m \u001b[0mlogging_level\u001b[0m\u001b[0;34m,\u001b[0m \u001b[0mplot\u001b[0m\u001b[0;34m,\u001b[0m \u001b[0mcolumn_description\u001b[0m\u001b[0;34m,\u001b[0m\u001b[0;34m\u001b[0m\u001b[0m\n\u001b[1;32m   2700\u001b[0m                          \u001b[0mverbose_eval\u001b[0m\u001b[0;34m,\u001b[0m \u001b[0mmetric_period\u001b[0m\u001b[0;34m,\u001b[0m \u001b[0msilent\u001b[0m\u001b[0;34m,\u001b[0m \u001b[0mearly_stopping_rounds\u001b[0m\u001b[0;34m,\u001b[0m\u001b[0;34m\u001b[0m\u001b[0m\n\u001b[0;32m-> 2701\u001b[0;31m                          save_snapshot, snapshot_file, snapshot_interval)\n\u001b[0m\u001b[1;32m   2702\u001b[0m \u001b[0;34m\u001b[0m\u001b[0m\n\u001b[1;32m   2703\u001b[0m     \u001b[0;32mdef\u001b[0m \u001b[0mpredict\u001b[0m\u001b[0;34m(\u001b[0m\u001b[0mself\u001b[0m\u001b[0;34m,\u001b[0m \u001b[0mdata\u001b[0m\u001b[0;34m,\u001b[0m \u001b[0mntree_start\u001b[0m\u001b[0;34m=\u001b[0m\u001b[0;36m0\u001b[0m\u001b[0;34m,\u001b[0m \u001b[0mntree_end\u001b[0m\u001b[0;34m=\u001b[0m\u001b[0;36m0\u001b[0m\u001b[0;34m,\u001b[0m \u001b[0mthread_count\u001b[0m\u001b[0;34m=\u001b[0m\u001b[0;34m-\u001b[0m\u001b[0;36m1\u001b[0m\u001b[0;34m,\u001b[0m \u001b[0mverbose\u001b[0m\u001b[0;34m=\u001b[0m\u001b[0;32mNone\u001b[0m\u001b[0;34m)\u001b[0m\u001b[0;34m:\u001b[0m\u001b[0;34m\u001b[0m\u001b[0m\n",
      "\u001b[0;32m~/anaconda3/envs/pytorch_p36/lib/python3.6/site-packages/catboost/core.py\u001b[0m in \u001b[0;36m_fit\u001b[0;34m(self, X, y, cat_features, pairs, sample_weight, group_id, group_weight, subgroup_id, pairs_weight, baseline, use_best_model, eval_set, verbose, logging_level, plot, column_description, verbose_eval, metric_period, silent, early_stopping_rounds, save_snapshot, snapshot_file, snapshot_interval)\u001b[0m\n\u001b[1;32m   1171\u001b[0m \u001b[0;34m\u001b[0m\u001b[0m\n\u001b[1;32m   1172\u001b[0m         \u001b[0;32mwith\u001b[0m \u001b[0mlog_fixup\u001b[0m\u001b[0;34m(\u001b[0m\u001b[0;34m)\u001b[0m\u001b[0;34m,\u001b[0m \u001b[0mplot_wrapper\u001b[0m\u001b[0;34m(\u001b[0m\u001b[0mplot\u001b[0m\u001b[0;34m,\u001b[0m \u001b[0mself\u001b[0m\u001b[0;34m.\u001b[0m\u001b[0mget_params\u001b[0m\u001b[0;34m(\u001b[0m\u001b[0;34m)\u001b[0m\u001b[0;34m)\u001b[0m\u001b[0;34m:\u001b[0m\u001b[0;34m\u001b[0m\u001b[0m\n\u001b[0;32m-> 1173\u001b[0;31m             \u001b[0mself\u001b[0m\u001b[0;34m.\u001b[0m\u001b[0m_train\u001b[0m\u001b[0;34m(\u001b[0m\u001b[0mtrain_pool\u001b[0m\u001b[0;34m,\u001b[0m \u001b[0meval_sets\u001b[0m\u001b[0;34m,\u001b[0m \u001b[0mparams\u001b[0m\u001b[0;34m,\u001b[0m \u001b[0mallow_clear_pool\u001b[0m\u001b[0;34m)\u001b[0m\u001b[0;34m\u001b[0m\u001b[0m\n\u001b[0m\u001b[1;32m   1174\u001b[0m \u001b[0;34m\u001b[0m\u001b[0m\n\u001b[1;32m   1175\u001b[0m         \u001b[0;32mif\u001b[0m \u001b[0;34m(\u001b[0m\u001b[0;32mnot\u001b[0m \u001b[0mself\u001b[0m\u001b[0;34m.\u001b[0m\u001b[0m_object\u001b[0m\u001b[0;34m.\u001b[0m\u001b[0m_has_leaf_weights_in_model\u001b[0m\u001b[0;34m(\u001b[0m\u001b[0;34m)\u001b[0m\u001b[0;34m)\u001b[0m \u001b[0;32mand\u001b[0m \u001b[0mallow_clear_pool\u001b[0m\u001b[0;34m:\u001b[0m\u001b[0;34m\u001b[0m\u001b[0m\n",
      "\u001b[0;32m~/anaconda3/envs/pytorch_p36/lib/python3.6/site-packages/catboost/core.py\u001b[0m in \u001b[0;36m_train\u001b[0;34m(self, train_pool, test_pool, params, allow_clear_pool)\u001b[0m\n\u001b[1;32m    864\u001b[0m \u001b[0;34m\u001b[0m\u001b[0m\n\u001b[1;32m    865\u001b[0m     \u001b[0;32mdef\u001b[0m \u001b[0m_train\u001b[0m\u001b[0;34m(\u001b[0m\u001b[0mself\u001b[0m\u001b[0;34m,\u001b[0m \u001b[0mtrain_pool\u001b[0m\u001b[0;34m,\u001b[0m \u001b[0mtest_pool\u001b[0m\u001b[0;34m,\u001b[0m \u001b[0mparams\u001b[0m\u001b[0;34m,\u001b[0m \u001b[0mallow_clear_pool\u001b[0m\u001b[0;34m)\u001b[0m\u001b[0;34m:\u001b[0m\u001b[0;34m\u001b[0m\u001b[0m\n\u001b[0;32m--> 866\u001b[0;31m         \u001b[0mself\u001b[0m\u001b[0;34m.\u001b[0m\u001b[0m_object\u001b[0m\u001b[0;34m.\u001b[0m\u001b[0m_train\u001b[0m\u001b[0;34m(\u001b[0m\u001b[0mtrain_pool\u001b[0m\u001b[0;34m,\u001b[0m \u001b[0mtest_pool\u001b[0m\u001b[0;34m,\u001b[0m \u001b[0mparams\u001b[0m\u001b[0;34m,\u001b[0m \u001b[0mallow_clear_pool\u001b[0m\u001b[0;34m)\u001b[0m\u001b[0;34m\u001b[0m\u001b[0m\n\u001b[0m\u001b[1;32m    867\u001b[0m         \u001b[0mself\u001b[0m\u001b[0;34m.\u001b[0m\u001b[0m_set_trained_model_attributes\u001b[0m\u001b[0;34m(\u001b[0m\u001b[0;34m)\u001b[0m\u001b[0;34m\u001b[0m\u001b[0m\n\u001b[1;32m    868\u001b[0m \u001b[0;34m\u001b[0m\u001b[0m\n",
      "\u001b[0;32m_catboost.pyx\u001b[0m in \u001b[0;36m_catboost._CatBoost._train\u001b[0;34m()\u001b[0m\n",
      "\u001b[0;32m_catboost.pyx\u001b[0m in \u001b[0;36m_catboost._CatBoost._train\u001b[0;34m()\u001b[0m\n",
      "\u001b[0;31mKeyboardInterrupt\u001b[0m: "
     ]
    }
   ],
   "source": [
    "%%time\n",
    "for v_depth in range(3, 12, 1):\n",
    "    model = catboost.CatBoostRegressor(\n",
    "        iterations=2000, learning_rate=1.0, \n",
    "        depth = v_depth,\n",
    "        l2_leaf_reg = 7,\n",
    "        rsm = 0.1,\n",
    "        loss_function='MAE', \n",
    "        early_stopping_rounds = 90, random_seed=27)\n",
    "   \n",
    "    model.fit(\n",
    "        X=df_train,\n",
    "        y=y_train['target_30'],\n",
    "        use_best_model=True,\n",
    "        eval_set=(df_test, y_test['target_30']),        \n",
    "        verbose=False\n",
    "    )\n",
    "    y_predict = model.predict(df_test.values)\n",
    "    print('v_depth=' + str(v_depth) + ': ' + str(sMAPE(y_test['target_30'], y_predict)))"
   ]
  },
  {
   "cell_type": "code",
   "execution_count": 39,
   "metadata": {},
   "outputs": [
    {
     "name": "stdout",
     "output_type": "stream",
     "text": [
      "v_l2_leaf_reg=1: 0.2748519627917496\n",
      "v_l2_leaf_reg=2: 0.2731332633991016\n",
      "v_l2_leaf_reg=3: 0.2732656485759227\n",
      "v_l2_leaf_reg=4: 0.27251297502984184\n",
      "v_l2_leaf_reg=5: 0.27307764127618683\n",
      "v_l2_leaf_reg=6: 0.27327182219842244\n",
      "v_l2_leaf_reg=7: 0.2721956033759729\n",
      "v_l2_leaf_reg=8: 0.2736765356614582\n",
      "v_l2_leaf_reg=9: 0.27379755342131284\n",
      "CPU times: user 8min 3s, sys: 48.7 s, total: 8min 52s\n",
      "Wall time: 6min 15s\n"
     ]
    }
   ],
   "source": [
    "%%time\n",
    "for v_l2_leaf_reg in range(1, 10, 1):\n",
    "    model = catboost.CatBoostRegressor(\n",
    "        iterations=2000, learning_rate=1.0, \n",
    "        depth = 7,\n",
    "        l2_leaf_reg = v_l2_leaf_reg,\n",
    "        loss_function='MAE', \n",
    "        early_stopping_rounds = 90, random_seed=27)\n",
    "    \n",
    "    model.fit(\n",
    "        X=df_train,\n",
    "        y=y_train['target_30'],\n",
    "        use_best_model=True,\n",
    "        eval_set=(df_test, y_test['target_30']),        \n",
    "        verbose=False\n",
    "    )\n",
    "    y_predict = model.predict(df_test.values)\n",
    "    print('v_l2_leaf_reg=' + str(v_l2_leaf_reg) + ': ' + str(sMAPE(y_test['target_30'], y_predict)))"
   ]
  },
  {
   "cell_type": "code",
   "execution_count": 41,
   "metadata": {},
   "outputs": [
    {
     "name": "stdout",
     "output_type": "stream",
     "text": [
      "v_rsm=1: 0.27176684971429727\n",
      "v_rsm=2: 0.27303525460169753\n",
      "v_rsm=3: 0.2749600987957908\n",
      "v_rsm=4: 0.27387804816757966\n",
      "v_rsm=5: 0.27428326460132546\n",
      "v_rsm=6: 0.27435605151205555\n",
      "v_rsm=7: 0.27315727544583485\n",
      "v_rsm=8: 0.27306134434327944\n",
      "v_rsm=9: 0.2753791959293799\n",
      "v_rsm=10: 0.2732656485759227\n"
     ]
    }
   ],
   "source": [
    "for v_rsm in range(1, 11, 1):\n",
    "    model = catboost.CatBoostRegressor(\n",
    "        iterations=2000, learning_rate=1.0, \n",
    "        depth = 7,\n",
    "        #l2_leaf_reg = 7,\n",
    "        rsm = v_rsm/10.0,\n",
    "        loss_function='MAE', \n",
    "        early_stopping_rounds = 90, random_seed=27)\n",
    "    \n",
    "    model.fit(\n",
    "        X=df_train,\n",
    "        y=y_train['target_30'],\n",
    "        use_best_model=True,\n",
    "        eval_set=(df_test, y_test['target_30']),        \n",
    "        verbose=False\n",
    "    )\n",
    "    y_predict = model.predict(df_test.values)\n",
    "    print('v_rsm=' + str(v_rsm) + ': ' + str(sMAPE(y_test['target_30'], y_predict)))"
   ]
  },
  {
   "cell_type": "code",
   "execution_count": 50,
   "metadata": {},
   "outputs": [
    {
     "name": "stdout",
     "output_type": "stream",
     "text": [
      "0.2731732120163993\n"
     ]
    }
   ],
   "source": [
    "model = catboost.CatBoostRegressor(\n",
    "        iterations=2000, learning_rate=0.185, \n",
    "    #1.0 - 0.33083758264677765\n",
    "    #0.2 - 0.2728408110905381\n",
    "    #0.185 - 0.2731732120163993\n",
    "        depth = 7,\n",
    "        rsm = 0.1,\n",
    "        loss_function='MAE', \n",
    "        random_seed=27)\n",
    "    \n",
    "model.fit(\n",
    "        X=df_train,\n",
    "        y=y_train['target_30'],\n",
    "        #use_best_model=True,\n",
    "        #eval_set=(df_test, y_test['target_30']),        \n",
    "        verbose=False\n",
    "    )\n",
    "y_predict = model.predict(df_test)\n",
    "print(sMAPE(y_test['target_30'], y_predict))"
   ]
  },
  {
   "cell_type": "markdown",
   "metadata": {},
   "source": [
    "## target_45"
   ]
  },
  {
   "cell_type": "code",
   "execution_count": 45,
   "metadata": {},
   "outputs": [
    {
     "name": "stdout",
     "output_type": "stream",
     "text": [
      "v_depth=3: 0.24504100551622598\n",
      "v_depth=4: 0.24524275249712338\n",
      "v_depth=5: 0.24375791754140905\n",
      "v_depth=6: 0.24472655392382\n",
      "v_depth=7: 0.24571646513539191\n",
      "v_depth=8: 0.24650731482996616\n",
      "v_depth=9: 0.24930437461408872\n",
      "v_depth=10: 0.2471636387737767\n",
      "v_depth=11: 0.2493814228238389\n",
      "CPU times: user 12min 38s, sys: 1min, total: 13min 38s\n",
      "Wall time: 10min 26s\n"
     ]
    }
   ],
   "source": [
    "%%time\n",
    "for v_depth in range(3, 12, 1):\n",
    "    model = catboost.CatBoostRegressor(\n",
    "        iterations=2000, learning_rate=1.0, \n",
    "        depth = v_depth,\n",
    "        l2_leaf_reg = 8,\n",
    "        rsm = 1.0,\n",
    "        loss_function='MAE', \n",
    "        early_stopping_rounds = 90, random_seed=27)\n",
    "   \n",
    "    model.fit(\n",
    "        X=df_train,\n",
    "        y=y_train['target_45'],\n",
    "        use_best_model=True,\n",
    "        eval_set=(df_test, y_test['target_45']),        \n",
    "        verbose=False\n",
    "    )\n",
    "    y_predict = model.predict(df_test.values)\n",
    "    print('v_depth=' + str(v_depth) + ': ' + str(sMAPE(y_test['target_45'], y_predict)))"
   ]
  },
  {
   "cell_type": "code",
   "execution_count": 43,
   "metadata": {},
   "outputs": [
    {
     "name": "stdout",
     "output_type": "stream",
     "text": [
      "v_l2_leaf_reg=1: 0.244370794974937\n",
      "v_l2_leaf_reg=2: 0.24517408581223385\n",
      "v_l2_leaf_reg=3: 0.24402074187809866\n",
      "v_l2_leaf_reg=4: 0.2449731017227979\n",
      "v_l2_leaf_reg=5: 0.24496754524740447\n",
      "v_l2_leaf_reg=6: 0.2439829349041889\n",
      "v_l2_leaf_reg=7: 0.24490330633292565\n",
      "v_l2_leaf_reg=8: 0.24375791754140905\n",
      "v_l2_leaf_reg=9: 0.2450167108627412\n",
      "CPU times: user 7min 38s, sys: 47 s, total: 8min 25s\n",
      "Wall time: 6min 24s\n"
     ]
    }
   ],
   "source": [
    "%%time\n",
    "for v_l2_leaf_reg in range(1, 10, 1):\n",
    "    model = catboost.CatBoostRegressor(\n",
    "        iterations=2000, learning_rate=1.0, \n",
    "        depth = 5,\n",
    "        l2_leaf_reg = v_l2_leaf_reg,\n",
    "        loss_function='MAE', \n",
    "        early_stopping_rounds = 90, random_seed=27)\n",
    "    \n",
    "    model.fit(\n",
    "        X=df_train,\n",
    "        y=y_train['target_45'],\n",
    "        use_best_model=True,\n",
    "        eval_set=(df_test, y_test['target_45']),        \n",
    "        verbose=False\n",
    "    )\n",
    "    y_predict = model.predict(df_test.values)\n",
    "    print('v_l2_leaf_reg=' + str(v_l2_leaf_reg) + ': ' + str(sMAPE(y_test['target_45'], y_predict)))"
   ]
  },
  {
   "cell_type": "code",
   "execution_count": 44,
   "metadata": {},
   "outputs": [
    {
     "name": "stdout",
     "output_type": "stream",
     "text": [
      "v_rsm=1: 0.24584044638024763\n",
      "v_rsm=2: 0.2451200300538713\n",
      "v_rsm=3: 0.24697456607563126\n",
      "v_rsm=4: 0.2463391145697011\n",
      "v_rsm=5: 0.24446064146747973\n",
      "v_rsm=6: 0.247093625776781\n",
      "v_rsm=7: 0.24559688583018044\n",
      "v_rsm=8: 0.2475052744276464\n",
      "v_rsm=9: 0.244835239348872\n",
      "v_rsm=10: 0.24375791754140905\n"
     ]
    }
   ],
   "source": [
    "for v_rsm in range(1, 11, 1):\n",
    "    model = catboost.CatBoostRegressor(\n",
    "        iterations=2000, learning_rate=1.0, \n",
    "        depth = 5,\n",
    "        l2_leaf_reg = 8,\n",
    "        rsm = v_rsm/10.0,\n",
    "        loss_function='MAE', \n",
    "        early_stopping_rounds = 90, random_seed=27)\n",
    "    \n",
    "    model.fit(\n",
    "        X=df_train,\n",
    "        y=y_train['target_45'],\n",
    "        use_best_model=True,\n",
    "        eval_set=(df_test, y_test['target_45']),        \n",
    "        verbose=False\n",
    "    )\n",
    "    y_predict = model.predict(df_test.values)\n",
    "    print('v_rsm=' + str(v_rsm) + ': ' + str(sMAPE(y_test['target_45'], y_predict)))"
   ]
  },
  {
   "cell_type": "code",
   "execution_count": 54,
   "metadata": {},
   "outputs": [
    {
     "name": "stdout",
     "output_type": "stream",
     "text": [
      "0.2455687434748517\n"
     ]
    }
   ],
   "source": [
    "model = catboost.CatBoostRegressor(\n",
    "        iterations=2000, learning_rate=0.225, \n",
    "    #0.2 - 0.2484354361121851\n",
    "    #0.25 - 0.24686332460367313\n",
    "    #0.3 - 0.25223371025308794\n",
    "    #0.225 - 0.2455687434748517\n",
    "        depth = 5,\n",
    "        l2_leaf_reg = 8,\n",
    "        rsm = 1.0,\n",
    "        loss_function='MAE', \n",
    "        random_seed=27)\n",
    "    \n",
    "model.fit(\n",
    "        X=df_train,\n",
    "        y=y_train['target_45'],\n",
    "        #use_best_model=True,\n",
    "        #eval_set=(df_test, y_test['target_45']),        \n",
    "        verbose=False\n",
    "    )\n",
    "y_predict = model.predict(df_test)\n",
    "print(sMAPE(y_test['target_45'], y_predict))"
   ]
  },
  {
   "cell_type": "markdown",
   "metadata": {},
   "source": [
    "## target_60"
   ]
  },
  {
   "cell_type": "code",
   "execution_count": 49,
   "metadata": {},
   "outputs": [
    {
     "name": "stdout",
     "output_type": "stream",
     "text": [
      "v_depth=3: 0.22869128728277777\n",
      "v_depth=4: 0.22754564768152855\n",
      "v_depth=5: 0.2256039149280791\n",
      "v_depth=6: 0.22723255762011438\n"
     ]
    },
    {
     "ename": "KeyboardInterrupt",
     "evalue": "",
     "output_type": "error",
     "traceback": [
      "\u001b[0;31m---------------------------------------------------------------------------\u001b[0m",
      "\u001b[0;31mKeyboardInterrupt\u001b[0m                         Traceback (most recent call last)",
      "\u001b[0;32m<timed exec>\u001b[0m in \u001b[0;36m<module>\u001b[0;34m()\u001b[0m\n",
      "\u001b[0;32m~/anaconda3/envs/pytorch_p36/lib/python3.6/site-packages/catboost/core.py\u001b[0m in \u001b[0;36mfit\u001b[0;34m(self, X, y, cat_features, sample_weight, baseline, use_best_model, eval_set, verbose, logging_level, plot, column_description, verbose_eval, metric_period, silent, early_stopping_rounds, save_snapshot, snapshot_file, snapshot_interval)\u001b[0m\n\u001b[1;32m   2699\u001b[0m                          \u001b[0muse_best_model\u001b[0m\u001b[0;34m,\u001b[0m \u001b[0meval_set\u001b[0m\u001b[0;34m,\u001b[0m \u001b[0mverbose\u001b[0m\u001b[0;34m,\u001b[0m \u001b[0mlogging_level\u001b[0m\u001b[0;34m,\u001b[0m \u001b[0mplot\u001b[0m\u001b[0;34m,\u001b[0m \u001b[0mcolumn_description\u001b[0m\u001b[0;34m,\u001b[0m\u001b[0;34m\u001b[0m\u001b[0m\n\u001b[1;32m   2700\u001b[0m                          \u001b[0mverbose_eval\u001b[0m\u001b[0;34m,\u001b[0m \u001b[0mmetric_period\u001b[0m\u001b[0;34m,\u001b[0m \u001b[0msilent\u001b[0m\u001b[0;34m,\u001b[0m \u001b[0mearly_stopping_rounds\u001b[0m\u001b[0;34m,\u001b[0m\u001b[0;34m\u001b[0m\u001b[0m\n\u001b[0;32m-> 2701\u001b[0;31m                          save_snapshot, snapshot_file, snapshot_interval)\n\u001b[0m\u001b[1;32m   2702\u001b[0m \u001b[0;34m\u001b[0m\u001b[0m\n\u001b[1;32m   2703\u001b[0m     \u001b[0;32mdef\u001b[0m \u001b[0mpredict\u001b[0m\u001b[0;34m(\u001b[0m\u001b[0mself\u001b[0m\u001b[0;34m,\u001b[0m \u001b[0mdata\u001b[0m\u001b[0;34m,\u001b[0m \u001b[0mntree_start\u001b[0m\u001b[0;34m=\u001b[0m\u001b[0;36m0\u001b[0m\u001b[0;34m,\u001b[0m \u001b[0mntree_end\u001b[0m\u001b[0;34m=\u001b[0m\u001b[0;36m0\u001b[0m\u001b[0;34m,\u001b[0m \u001b[0mthread_count\u001b[0m\u001b[0;34m=\u001b[0m\u001b[0;34m-\u001b[0m\u001b[0;36m1\u001b[0m\u001b[0;34m,\u001b[0m \u001b[0mverbose\u001b[0m\u001b[0;34m=\u001b[0m\u001b[0;32mNone\u001b[0m\u001b[0;34m)\u001b[0m\u001b[0;34m:\u001b[0m\u001b[0;34m\u001b[0m\u001b[0m\n",
      "\u001b[0;32m~/anaconda3/envs/pytorch_p36/lib/python3.6/site-packages/catboost/core.py\u001b[0m in \u001b[0;36m_fit\u001b[0;34m(self, X, y, cat_features, pairs, sample_weight, group_id, group_weight, subgroup_id, pairs_weight, baseline, use_best_model, eval_set, verbose, logging_level, plot, column_description, verbose_eval, metric_period, silent, early_stopping_rounds, save_snapshot, snapshot_file, snapshot_interval)\u001b[0m\n\u001b[1;32m   1171\u001b[0m \u001b[0;34m\u001b[0m\u001b[0m\n\u001b[1;32m   1172\u001b[0m         \u001b[0;32mwith\u001b[0m \u001b[0mlog_fixup\u001b[0m\u001b[0;34m(\u001b[0m\u001b[0;34m)\u001b[0m\u001b[0;34m,\u001b[0m \u001b[0mplot_wrapper\u001b[0m\u001b[0;34m(\u001b[0m\u001b[0mplot\u001b[0m\u001b[0;34m,\u001b[0m \u001b[0mself\u001b[0m\u001b[0;34m.\u001b[0m\u001b[0mget_params\u001b[0m\u001b[0;34m(\u001b[0m\u001b[0;34m)\u001b[0m\u001b[0;34m)\u001b[0m\u001b[0;34m:\u001b[0m\u001b[0;34m\u001b[0m\u001b[0m\n\u001b[0;32m-> 1173\u001b[0;31m             \u001b[0mself\u001b[0m\u001b[0;34m.\u001b[0m\u001b[0m_train\u001b[0m\u001b[0;34m(\u001b[0m\u001b[0mtrain_pool\u001b[0m\u001b[0;34m,\u001b[0m \u001b[0meval_sets\u001b[0m\u001b[0;34m,\u001b[0m \u001b[0mparams\u001b[0m\u001b[0;34m,\u001b[0m \u001b[0mallow_clear_pool\u001b[0m\u001b[0;34m)\u001b[0m\u001b[0;34m\u001b[0m\u001b[0m\n\u001b[0m\u001b[1;32m   1174\u001b[0m \u001b[0;34m\u001b[0m\u001b[0m\n\u001b[1;32m   1175\u001b[0m         \u001b[0;32mif\u001b[0m \u001b[0;34m(\u001b[0m\u001b[0;32mnot\u001b[0m \u001b[0mself\u001b[0m\u001b[0;34m.\u001b[0m\u001b[0m_object\u001b[0m\u001b[0;34m.\u001b[0m\u001b[0m_has_leaf_weights_in_model\u001b[0m\u001b[0;34m(\u001b[0m\u001b[0;34m)\u001b[0m\u001b[0;34m)\u001b[0m \u001b[0;32mand\u001b[0m \u001b[0mallow_clear_pool\u001b[0m\u001b[0;34m:\u001b[0m\u001b[0;34m\u001b[0m\u001b[0m\n",
      "\u001b[0;32m~/anaconda3/envs/pytorch_p36/lib/python3.6/site-packages/catboost/core.py\u001b[0m in \u001b[0;36m_train\u001b[0;34m(self, train_pool, test_pool, params, allow_clear_pool)\u001b[0m\n\u001b[1;32m    864\u001b[0m \u001b[0;34m\u001b[0m\u001b[0m\n\u001b[1;32m    865\u001b[0m     \u001b[0;32mdef\u001b[0m \u001b[0m_train\u001b[0m\u001b[0;34m(\u001b[0m\u001b[0mself\u001b[0m\u001b[0;34m,\u001b[0m \u001b[0mtrain_pool\u001b[0m\u001b[0;34m,\u001b[0m \u001b[0mtest_pool\u001b[0m\u001b[0;34m,\u001b[0m \u001b[0mparams\u001b[0m\u001b[0;34m,\u001b[0m \u001b[0mallow_clear_pool\u001b[0m\u001b[0;34m)\u001b[0m\u001b[0;34m:\u001b[0m\u001b[0;34m\u001b[0m\u001b[0m\n\u001b[0;32m--> 866\u001b[0;31m         \u001b[0mself\u001b[0m\u001b[0;34m.\u001b[0m\u001b[0m_object\u001b[0m\u001b[0;34m.\u001b[0m\u001b[0m_train\u001b[0m\u001b[0;34m(\u001b[0m\u001b[0mtrain_pool\u001b[0m\u001b[0;34m,\u001b[0m \u001b[0mtest_pool\u001b[0m\u001b[0;34m,\u001b[0m \u001b[0mparams\u001b[0m\u001b[0;34m,\u001b[0m \u001b[0mallow_clear_pool\u001b[0m\u001b[0;34m)\u001b[0m\u001b[0;34m\u001b[0m\u001b[0m\n\u001b[0m\u001b[1;32m    867\u001b[0m         \u001b[0mself\u001b[0m\u001b[0;34m.\u001b[0m\u001b[0m_set_trained_model_attributes\u001b[0m\u001b[0;34m(\u001b[0m\u001b[0;34m)\u001b[0m\u001b[0;34m\u001b[0m\u001b[0m\n\u001b[1;32m    868\u001b[0m \u001b[0;34m\u001b[0m\u001b[0m\n",
      "\u001b[0;32m_catboost.pyx\u001b[0m in \u001b[0;36m_catboost._CatBoost._train\u001b[0;34m()\u001b[0m\n",
      "\u001b[0;32m_catboost.pyx\u001b[0m in \u001b[0;36m_catboost._CatBoost._train\u001b[0;34m()\u001b[0m\n",
      "\u001b[0;31mKeyboardInterrupt\u001b[0m: "
     ]
    }
   ],
   "source": [
    "%%time\n",
    "for v_depth in range(3, 10, 1):\n",
    "    model = catboost.CatBoostRegressor(\n",
    "        iterations=2000, learning_rate=1.0, \n",
    "        depth = v_depth,\n",
    "        l2_leaf_reg = 3,\n",
    "        rsm = 1.0,\n",
    "        loss_function='MAE', \n",
    "        early_stopping_rounds = 90, random_seed=27)\n",
    "   \n",
    "    model.fit(\n",
    "        X=df_train,\n",
    "        y=y_train['target_60'],\n",
    "        use_best_model=True,\n",
    "        eval_set=(df_test, y_test['target_60']),        \n",
    "        verbose=False\n",
    "    )\n",
    "    y_predict = model.predict(df_test.values)\n",
    "    print('v_depth=' + str(v_depth) + ': ' + str(sMAPE(y_test['target_60'], y_predict)))"
   ]
  },
  {
   "cell_type": "code",
   "execution_count": 47,
   "metadata": {},
   "outputs": [
    {
     "name": "stdout",
     "output_type": "stream",
     "text": [
      "v_l2_leaf_reg=1: 0.2263683885326\n",
      "v_l2_leaf_reg=2: 0.22657779262747868\n",
      "v_l2_leaf_reg=3: 0.2256039149280791\n",
      "v_l2_leaf_reg=4: 0.22632925352542238\n",
      "v_l2_leaf_reg=5: 0.2266057735462952\n",
      "v_l2_leaf_reg=6: 0.2256351841995213\n",
      "v_l2_leaf_reg=7: 0.22569713711432646\n",
      "v_l2_leaf_reg=8: 0.2257793112691084\n",
      "v_l2_leaf_reg=9: 0.22710825116276842\n",
      "CPU times: user 7min 48s, sys: 49.3 s, total: 8min 38s\n",
      "Wall time: 6min 26s\n"
     ]
    }
   ],
   "source": [
    "%%time\n",
    "for v_l2_leaf_reg in range(1, 10, 1):\n",
    "    model = catboost.CatBoostRegressor(\n",
    "        iterations=2000, learning_rate=1.0, \n",
    "        depth = 5,\n",
    "        l2_leaf_reg = v_l2_leaf_reg,\n",
    "        loss_function='MAE', \n",
    "        early_stopping_rounds = 90, random_seed=27)\n",
    "    \n",
    "    model.fit(\n",
    "        X=df_train,\n",
    "        y=y_train['target_60'],\n",
    "        use_best_model=True,\n",
    "        eval_set=(df_test, y_test['target_60']),        \n",
    "        verbose=False\n",
    "    )\n",
    "    y_predict = model.predict(df_test.values)\n",
    "    print('v_l2_leaf_reg=' + str(v_l2_leaf_reg) + ': ' + str(sMAPE(y_test['target_60'], y_predict)))"
   ]
  },
  {
   "cell_type": "code",
   "execution_count": 48,
   "metadata": {},
   "outputs": [
    {
     "name": "stdout",
     "output_type": "stream",
     "text": [
      "v_rsm=1: 0.22696204398304698\n",
      "v_rsm=2: 0.22777610062834314\n",
      "v_rsm=3: 0.22830541753892158\n",
      "v_rsm=4: 0.22744102342104214\n",
      "v_rsm=5: 0.22739879442500877\n",
      "v_rsm=6: 0.22611171815847256\n",
      "v_rsm=7: 0.22634538305488394\n",
      "v_rsm=8: 0.22655252035270784\n",
      "v_rsm=9: 0.22742205086290362\n",
      "v_rsm=10: 0.2256039149280791\n"
     ]
    }
   ],
   "source": [
    "for v_rsm in range(1, 11, 1):\n",
    "    model = catboost.CatBoostRegressor(\n",
    "        iterations=2000, learning_rate=1.0, \n",
    "        depth = 5,\n",
    "        l2_leaf_reg = 3,\n",
    "        rsm = v_rsm/10.0,\n",
    "        loss_function='MAE', \n",
    "        early_stopping_rounds = 90, random_seed=27)\n",
    "    \n",
    "    model.fit(\n",
    "        X=df_train,\n",
    "        y=y_train['target_60'],\n",
    "        use_best_model=True,\n",
    "        eval_set=(df_test, y_test['target_60']),        \n",
    "        verbose=False\n",
    "    )\n",
    "    y_predict = model.predict(df_test.values)\n",
    "    print('v_rsm=' + str(v_rsm) + ': ' + str(sMAPE(y_test['target_60'], y_predict)))"
   ]
  },
  {
   "cell_type": "code",
   "execution_count": 58,
   "metadata": {},
   "outputs": [
    {
     "name": "stdout",
     "output_type": "stream",
     "text": [
      "0.22962564076077827\n"
     ]
    }
   ],
   "source": [
    "model = catboost.CatBoostRegressor(\n",
    "        iterations=2000, learning_rate=0.3, \n",
    "    #0.2 - 0.23210230685652697\n",
    "    #0.25 - 0.228305145518675\n",
    "    #0.275 - 0.22777540888270587\n",
    "    #0.3 - 0.22962564076077827\n",
    "        depth = 5,\n",
    "        l2_leaf_reg = 3,\n",
    "        rsm = 1.0,\n",
    "        loss_function='MAE', \n",
    "        random_seed=27)\n",
    "    \n",
    "model.fit(\n",
    "        X=df_train,\n",
    "        y=y_train['target_60'],\n",
    "        #use_best_model=True,\n",
    "        #eval_set=(df_test, y_test['target_60']),        \n",
    "        verbose=False\n",
    "    )\n",
    "y_predict = model.predict(df_test)\n",
    "print(sMAPE(y_test['target_60'], y_predict))"
   ]
  },
  {
   "cell_type": "markdown",
   "metadata": {},
   "source": [
    "## target_75"
   ]
  },
  {
   "cell_type": "code",
   "execution_count": 25,
   "metadata": {},
   "outputs": [
    {
     "name": "stdout",
     "output_type": "stream",
     "text": [
      "v_depth=3: 0.21488234438900966\n",
      "v_depth=4: 0.2130404359832791\n",
      "v_depth=5: 0.21048511431856992\n",
      "v_depth=6: 0.21064588933634565\n",
      "v_depth=7: 0.21049139027854166\n",
      "v_depth=8: 0.21168356024376472\n",
      "v_depth=9: 0.21290286532695593\n",
      "v_depth=10: 0.214686699514435\n",
      "v_depth=11: 0.21428716514222107\n",
      "CPU times: user 14min 15s, sys: 23.4 s, total: 14min 38s\n",
      "Wall time: 4min 14s\n"
     ]
    }
   ],
   "source": [
    "%%time\n",
    "for v_depth in range(3, 12, 1):\n",
    "    model = catboost.CatBoostRegressor(\n",
    "        iterations=2000, learning_rate=1.0, \n",
    "        depth = v_depth,\n",
    "        loss_function='MAE', \n",
    "        early_stopping_rounds = 90, random_seed=27)\n",
    "   \n",
    "    model.fit(\n",
    "        X=df_train,\n",
    "        y=y_train['target_75'],\n",
    "        use_best_model=True,\n",
    "        eval_set=(df_test, y_test['target_75']),        \n",
    "        verbose=False\n",
    "    )\n",
    "    y_predict = model.predict(df_test.values)\n",
    "    print('v_depth=' + str(v_depth) + ': ' + str(sMAPE(y_test['target_75'], y_predict)))"
   ]
  },
  {
   "cell_type": "code",
   "execution_count": 36,
   "metadata": {},
   "outputs": [
    {
     "name": "stdout",
     "output_type": "stream",
     "text": [
      "v_l2_leaf_reg=1: 0.21070080833544702\n",
      "v_l2_leaf_reg=2: 0.20983240758607208\n",
      "v_l2_leaf_reg=3: 0.21048511431856992\n",
      "v_l2_leaf_reg=4: 0.21130366914015386\n",
      "v_l2_leaf_reg=5: 0.2100850234938446\n",
      "v_l2_leaf_reg=6: 0.20958792446020888\n",
      "v_l2_leaf_reg=7: 0.20944312370031354\n",
      "v_l2_leaf_reg=8: 0.21033535100251263\n",
      "v_l2_leaf_reg=9: 0.210379013176623\n",
      "CPU times: user 8min 35s, sys: 18.3 s, total: 8min 53s\n",
      "Wall time: 2min 39s\n"
     ]
    }
   ],
   "source": [
    "%%time\n",
    "for v_l2_leaf_reg in range(1, 10, 1):\n",
    "    model = catboost.CatBoostRegressor(\n",
    "        iterations=2000, learning_rate=1.0, \n",
    "        depth = 5,\n",
    "        l2_leaf_reg = v_l2_leaf_reg,\n",
    "        loss_function='MAE', \n",
    "        early_stopping_rounds = 90, random_seed=27)\n",
    "    \n",
    "    model.fit(\n",
    "        X=df_train,\n",
    "        y=y_train['target_75'],\n",
    "        use_best_model=True,\n",
    "        eval_set=(df_test, y_test['target_75']),        \n",
    "        verbose=False\n",
    "    )\n",
    "    y_predict = model.predict(df_test.values)\n",
    "    print('v_l2_leaf_reg=' + str(v_l2_leaf_reg) + ': ' + str(sMAPE(y_test['target_75'], y_predict)))"
   ]
  },
  {
   "cell_type": "code",
   "execution_count": 37,
   "metadata": {},
   "outputs": [
    {
     "name": "stdout",
     "output_type": "stream",
     "text": [
      "v_rsm=1: 0.21316833909448887\n",
      "v_rsm=2: 0.2106599665469864\n",
      "v_rsm=3: 0.21315959165972648\n",
      "v_rsm=4: 0.21111538378120498\n",
      "v_rsm=5: 0.21212455804944952\n",
      "v_rsm=6: 0.2122581457496143\n",
      "v_rsm=7: 0.21182466013384862\n",
      "v_rsm=8: 0.2111375653948338\n",
      "v_rsm=9: 0.21077742703838698\n",
      "v_rsm=10: 0.20944312370031354\n"
     ]
    }
   ],
   "source": [
    "for v_rsm in range(1, 11, 1):\n",
    "    model = catboost.CatBoostRegressor(\n",
    "        iterations=2000, learning_rate=1.0, \n",
    "        depth = 5,\n",
    "        l2_leaf_reg = 7,\n",
    "        rsm = v_rsm/10.0,\n",
    "        loss_function='MAE', \n",
    "        early_stopping_rounds = 90, random_seed=27)\n",
    "    \n",
    "    model.fit(\n",
    "        X=df_train,\n",
    "        y=y_train['target_75'],\n",
    "        use_best_model=True,\n",
    "        eval_set=(df_test, y_test['target_75']),        \n",
    "        verbose=False\n",
    "    )\n",
    "    y_predict = model.predict(df_test.values)\n",
    "    print('v_rsm=' + str(v_rsm) + ': ' + str(sMAPE(y_test['target_75'], y_predict)))"
   ]
  },
  {
   "cell_type": "code",
   "execution_count": 59,
   "metadata": {},
   "outputs": [
    {
     "name": "stdout",
     "output_type": "stream",
     "text": [
      "0.21159578238912014\n"
     ]
    }
   ],
   "source": [
    "model = catboost.CatBoostRegressor(\n",
    "        iterations=2000, learning_rate=0.3,\n",
    "    #0.3 - 0.21159578238912014\n",
    "        depth = 5,\n",
    "        l2_leaf_reg = 7,\n",
    "        rsm = 1.0,\n",
    "        loss_function='MAE', \n",
    "        random_seed=27)\n",
    "    \n",
    "model.fit(\n",
    "        X=df_train,\n",
    "        y=y_train['target_75'],\n",
    "        #use_best_model=True,\n",
    "        #eval_set=(df_test, y_test['target_75']),        \n",
    "        verbose=False\n",
    "    )\n",
    "y_predict = model.predict(df_test)\n",
    "print(sMAPE(y_test['target_75'], y_predict))"
   ]
  },
  {
   "cell_type": "markdown",
   "metadata": {},
   "source": [
    "# Final model"
   ]
  },
  {
   "cell_type": "code",
   "execution_count": 146,
   "metadata": {},
   "outputs": [
    {
     "name": "stdout",
     "output_type": "stream",
     "text": [
      "target_10\n",
      "stupid:\t0.582173151841312\n",
      "model:\t0.4279075154492326\n",
      "\n",
      "target_30\n",
      "stupid:\t0.5388110900373055\n",
      "model:\t0.3415715528994696\n",
      "\n",
      "target_45\n",
      "stupid:\t0.5280161445107636\n",
      "model:\t0.3389273268162911\n",
      "\n",
      "target_60\n",
      "stupid:\t0.5090823344692388\n",
      "model:\t0.28821776828973544\n",
      "\n",
      "target_75\n",
      "stupid:\t0.5070227037322823\n",
      "model:\t0.25291448293972907\n",
      "\n"
     ]
    }
   ],
   "source": [
    "for position in target_positions:\n",
    "    #model = catboost.CatBoostRegressor(iterations=2000, learning_rate=0.5, \n",
    "    #    depth = 5,\n",
    "    #    l2_leaf_reg = 7,\n",
    "    #    rsm = 1.0,\n",
    "    #    loss_function='MAE', \n",
    "    #    random_seed=27)\n",
    "   \n",
    "        \n",
    "    #model = catboost.CatBoostRegressor(iterations=5000, learning_rate=0.065,\n",
    "    #    depth = 6,\n",
    "    #    l2_leaf_reg = 9,\n",
    "    #    rsm = 0.5,\n",
    "    #    use_best_model=True,\n",
    "    #    loss_function='MAE', \n",
    "    #    random_seed=27)\n",
    "    \n",
    "    model = catboost.CatBoostRegressor(iterations=2000, learning_rate=1,\n",
    "        depth = 6,\n",
    "        l2_leaf_reg = 9,\n",
    "        rsm = 0.5,\n",
    "        #use_best_model=True,\n",
    "        loss_function='MAE', \n",
    "        random_seed=27)\n",
    "    \n",
    "    model.fit(\n",
    "        #X=X_all,\n",
    "        #y=y_all['target_{}'.format(position)],\n",
    "        X=df_train,\n",
    "        y=y_train['target_{}'.format(position)],\n",
    "        #use_best_model=True,\n",
    "        #eval_set=(df_test, y_test['target_{}'.format(position)]),\n",
    "        verbose=False)\n",
    "    y_predict = model.predict(df_test)\n",
    "    \n",
    "    print('target_{}'.format(position))\n",
    "    print('stupid:\\t{}'.format(sMAPE(\n",
    "        y_test['target_{}'.format(position)],\n",
    "        y_train['target_{}'.format(position)].median())))\n",
    "    print('model:\\t{}'.format(sMAPE(\n",
    "        y_test['target_{}'.format(position)],\n",
    "        y_predict)))\n",
    "    print()\n",
    "    \n",
    "    model_to_save['models'][position] = model"
   ]
  },
  {
   "cell_type": "code",
   "execution_count": null,
   "metadata": {},
   "outputs": [],
   "source": [
    "from sklearn.model_selection import StratifiedKFold, RepeatedKFold\n",
    "from sklearn.metrics import mean_squared_error\n",
    "from sklearn.model_selection import train_test_split\n",
    "from math import sqrt\n",
    "\n",
    "folds = StratifiedKFold(n_splits = 4, shuffle = True)\n",
    "train_predictions = np.zeros(len(df_train))\n",
    "test_predictions = np.zeros(len(y_test))\n",
    "\n",
    "v_round = 0\n",
    "for train_index, test_index in folds.split(df_train, y_train['target_10']):   \n",
    "    D_train = catboost.Pool(df_train.iloc[train_index], y_train['target_10'].iloc[train_index])\n",
    "    D_val = catboost.Pool(df_train.iloc[test_index], y_train['target_10'].iloc[test_index])\n",
    "    \n",
    "    model = catboost.CatBoostRegressor(iterations=5000,\n",
    "                                        learning_rate=0.065,\n",
    "                                        depth=6,\n",
    "                                        use_best_model=True,\n",
    "                                        l2_leaf_reg=9,\n",
    "                                        rsm = 0.5, \n",
    "                                        loss_function='MAE',\n",
    "                                        early_stopping_rounds = 90,\n",
    "                                        random_seed=27,\n",
    "                                        verbose=False\n",
    "                                        )\n",
    "    model.fit(D_train, eval_set=D_val, verbose=False)\n",
    "    \n",
    "    v_round = v_round + 1\n",
    "    print(\"Ending round \" + str(v_round))\n",
    "    \n",
    "    model.save_model('model_cb_stack_00_' + str(v_round))\n",
    "    nb_trees = model.tree_count_\n",
    "\n",
    "    print('nb_trees={}'.format(nb_trees))    \n",
    "    y_predict = model.predict(df_test)\n",
    "    print(sMAPE(y_test['target_10'], y_predict))\n",
    "    #test_predictions += -model.predict_proba(pd.concat([test[USE_COLUMNS].fillna(0.0), test_dop], axis=1).values)[:, 1] / folds.n_splits"
   ]
  },
  {
   "cell_type": "code",
   "execution_count": 46,
   "metadata": {},
   "outputs": [
    {
     "data": {
      "text/plain": [
       "[10, 30, 45, 60, 75]"
      ]
     },
     "execution_count": 46,
     "metadata": {},
     "output_type": "execute_result"
    }
   ],
   "source": [
    "target_positions"
   ]
  },
  {
   "cell_type": "code",
   "execution_count": 115,
   "metadata": {},
   "outputs": [
    {
     "name": "stdout",
     "output_type": "stream",
     "text": [
      "10\n",
      "not 30\n",
      "not 45\n",
      "not 60\n",
      "not 75\n",
      "target_10\n",
      "stupid:\t0.48386792223329617\n",
      "model:\t0.3410269814192636\n",
      "\n",
      "not 10\n",
      "30\n",
      "not 45\n",
      "not 60\n",
      "not 75\n",
      "target_30\n",
      "stupid:\t0.4302487056582887\n",
      "model:\t0.25251923306633584\n",
      "\n",
      "not 10\n",
      "not 30\n",
      "45\n",
      "not 60\n",
      "not 75\n",
      "target_45\n",
      "stupid:\t0.4072633534830279\n",
      "model:\t0.22272875166029688\n",
      "\n",
      "not 10\n",
      "not 30\n",
      "not 45\n",
      "60\n",
      "not 75\n",
      "target_60\n",
      "stupid:\t0.39121547448984445\n",
      "model:\t0.20001966635694723\n",
      "\n",
      "not 10\n",
      "not 30\n",
      "not 45\n",
      "not 60\n",
      "75\n",
      "target_75\n",
      "stupid:\t0.37884360367050135\n",
      "model:\t0.18319720840779294\n",
      "\n"
     ]
    }
   ],
   "source": [
    "for position in target_positions:\n",
    "    if str(position) == '10':\n",
    "        print('10')\n",
    "        model = catboost.CatBoostRegressor(iterations=2000, learning_rate=0.185, \n",
    "            depth = 4,\n",
    "            rsm=0.2,\n",
    "            l2_leaf_reg = 9,\n",
    "            loss_function='MAE', \n",
    "            random_seed=27)\n",
    "    else:\n",
    "        print('not 10')\n",
    "\n",
    "    if str(position) == '30':\n",
    "        print('30')\n",
    "        model = catboost.CatBoostRegressor(iterations=2000, learning_rate=0.2, \n",
    "            depth = 7,\n",
    "            rsm = 0.1,\n",
    "            loss_function='MAE', \n",
    "            random_seed=27)\n",
    "    else:\n",
    "        print('not 30')\n",
    "        \n",
    "    if str(position) == '45':\n",
    "        print('45')\n",
    "        model = catboost.CatBoostRegressor(iterations=2000, learning_rate=0.225, \n",
    "            depth = 5,\n",
    "            l2_leaf_reg = 8,\n",
    "            rsm = 1.0,\n",
    "            loss_function='MAE', \n",
    "            random_seed=27)\n",
    "    else:\n",
    "        print('not 45')\n",
    "        \n",
    "    if str(position) == '60':\n",
    "        print('60')\n",
    "        model = catboost.CatBoostRegressor(iterations=2000, learning_rate=0.275, \n",
    "            depth = 5,\n",
    "            l2_leaf_reg = 3,\n",
    "            rsm = 1.0,\n",
    "            loss_function='MAE', \n",
    "            random_seed=27)\n",
    "    else:\n",
    "        print('not 60')\n",
    "        \n",
    "    if str(position) == '75':\n",
    "        print('75')\n",
    "        model = catboost.CatBoostRegressor(iterations=2000, learning_rate=0.3, \n",
    "            depth = 5,\n",
    "            l2_leaf_reg = 7,\n",
    "            rsm = 1.0,\n",
    "            loss_function='MAE', \n",
    "            random_seed=27)\n",
    "    else:\n",
    "        print('not 75')\n",
    "        \n",
    "        \n",
    "    model.fit(\n",
    "            #X_all,\n",
    "            #y_all['target_{}'.format(position)],\n",
    "            X=df_train,\n",
    "            y=y_train['target_{}'.format(position)],\n",
    "            use_best_model=True,\n",
    "            eval_set=(df_test, y_test['target_{}'.format(position)]),\n",
    "            verbose=False)\n",
    "    y_predict = model.predict(df_test)\n",
    "    \n",
    "    print('target_{}'.format(position))\n",
    "    print('stupid:\\t{}'.format(sMAPE(\n",
    "        y_test['target_{}'.format(position)],\n",
    "        y_train['target_{}'.format(position)].median())))\n",
    "    print('model:\\t{}'.format(sMAPE(\n",
    "        y_test['target_{}'.format(position)],\n",
    "        y_predict)))\n",
    "    print()\n",
    "    \n",
    "    model_to_save['models'][position] = model"
   ]
  },
  {
   "cell_type": "markdown",
   "metadata": {},
   "source": [
    "Our model is better than constant solution. Saving model."
   ]
  },
  {
   "cell_type": "code",
   "execution_count": 161,
   "metadata": {},
   "outputs": [
    {
     "name": "stdout",
     "output_type": "stream",
     "text": [
      "weekday: 4.007895525075691\n",
      "hour: 17.349974066420536\n",
      "minute: 1.7986234838007633\n",
      "month: 2.1860958906711025\n",
      "is_night: 2.2460229053723526\n",
      "is_weekend: 0.8583152474301983\n",
      "num_orders_15_15: 0.0\n",
      "num_orders_30_15: 1.654996279103456\n",
      "num_orders_30_30: 0.0\n",
      "num_orders_60_15: 0.29497559093322295\n",
      "num_orders_60_30: 2.216242237750835\n",
      "num_orders_60_60: 0.0\n",
      "num_orders_1440_15: 0.43457722866754145\n",
      "num_orders_1440_30: 0.9342477137100073\n",
      "num_orders_1440_60: 5.6926639063916\n",
      "num_orders_1440_1440: 0.0\n",
      "num_orders_2880_15: 0.2585020653584616\n",
      "num_orders_2880_30: 1.2289562557584521\n",
      "num_orders_2880_60: 5.369404656653815\n",
      "num_orders_2880_1440: 6.092214620270421\n",
      "num_orders_2880_2880: 0.0\n",
      "num_orders_10080_15: 0.3390455009156572\n",
      "num_orders_10080_30: 1.315381957574868\n",
      "num_orders_10080_60: 7.90865182432367\n",
      "num_orders_10080_1440: 5.72251556679531\n",
      "num_orders_10080_2880: 6.101137452731748\n",
      "num_orders_10080_10080: 0.0\n",
      "num_orders_20160_15: 0.2701789984012382\n",
      "num_orders_20160_30: 1.106458983794173\n",
      "num_orders_20160_60: 5.368318584570941\n",
      "num_orders_20160_1440: 5.068574763074446\n",
      "num_orders_20160_2880: 5.492941342235372\n",
      "num_orders_20160_10080: 8.683087352214118\n",
      "num_orders_20160_20160: 0.0\n"
     ]
    }
   ],
   "source": [
    "for i in range(len(model.feature_importances_)):\n",
    "    print(model.feature_names_[i] + ': ' + str(model.feature_importances_[i]))"
   ]
  },
  {
   "cell_type": "code",
   "execution_count": 147,
   "metadata": {},
   "outputs": [],
   "source": [
    "pickle.dump(model_to_save, open('models.pkl', 'wb'))"
   ]
  },
  {
   "cell_type": "code",
   "execution_count": null,
   "metadata": {},
   "outputs": [],
   "source": []
  },
  {
   "cell_type": "code",
   "execution_count": null,
   "metadata": {},
   "outputs": [],
   "source": [
    "# кол-во случайных наборов гиперпараметров\n",
    "N_HYPEROPT_PROBES = 500\n",
    "\n",
    "# алгоритм сэмплирования гиперпараметров\n",
    "HYPEROPT_ALGO = tpe.suggest  #  tpe.suggest OR hyperopt.rand.suggest"
   ]
  },
  {
   "cell_type": "code",
   "execution_count": null,
   "metadata": {},
   "outputs": [],
   "source": [
    "colorama.init()"
   ]
  },
  {
   "cell_type": "code",
   "execution_count": null,
   "metadata": {},
   "outputs": [],
   "source": [
    "D_train = catboost.Pool(train_part.drop(['feedback'], axis=1).values, train_part.feedback.values)\n",
    "D_val = catboost.Pool(validation.drop(['feedback'], axis=1).values, validation.feedback.values)"
   ]
  },
  {
   "cell_type": "code",
   "execution_count": null,
   "metadata": {},
   "outputs": [],
   "source": [
    "def get_catboost_params(space):\n",
    "    params = dict()\n",
    "    params['learning_rate'] = space['learning_rate']\n",
    "    params['depth'] = int(space['depth'])\n",
    "    params['l2_leaf_reg'] = space['l2_leaf_reg']\n",
    "    params['rsm'] = space['rsm']\n",
    "    return params"
   ]
  },
  {
   "cell_type": "code",
   "execution_count": null,
   "metadata": {},
   "outputs": [],
   "source": [
    "obj_call_count = 0\n",
    "cur_best_loss = np.inf\n",
    "log_writer = open( 'catboost-hyperopt-log.txt', 'w' )"
   ]
  },
  {
   "cell_type": "code",
   "execution_count": null,
   "metadata": {},
   "outputs": [],
   "source": [
    "def objective(space):\n",
    "    global obj_call_count, cur_best_loss\n",
    "\n",
    "    obj_call_count += 1\n",
    "\n",
    "    print('\\nCatBoost objective call #{} cur_best_loss={:7.5f}'.format(obj_call_count,cur_best_loss) )\n",
    "\n",
    "    params = get_catboost_params(space)\n",
    "\n",
    "    sorted_params = sorted(space.items(), key=lambda z: z[0])\n",
    "    params_str = str.join(' ', ['{}={}'.format(k, v) for k, v in sorted_params])\n",
    "    print('Params: {}'.format(params_str) )\n",
    "\n",
    "    model = catboost.CatBoostClassifier(iterations=2000,\n",
    "                                        learning_rate=params['learning_rate'],\n",
    "                                        depth=int(params['depth']),\n",
    "                                        use_best_model=True,\n",
    "                                        l2_leaf_reg=params['l2_leaf_reg'],\n",
    "                                        early_stopping_rounds = 10,\n",
    "                                        random_seed=27,\n",
    "                                        verbose=False\n",
    "                                        )\n",
    "    model.fit(D_train, eval_set=D_val, verbose=False)\n",
    "    nb_trees = model.tree_count_\n",
    "\n",
    "    print('nb_trees={}'.format(nb_trees))\n",
    "\n",
    "    y_pred = model.predict_proba(validation.drop(['feedback'], axis=1).values)\n",
    "\n",
    "    test_loss = sklearn.metrics.log_loss(validation.feedback.values, y_pred, labels=list(range(2)))\n",
    "    acc = sklearn.metrics.accuracy_score(validation.feedback.values, np.argmax(y_pred, axis=1))\n",
    "\n",
    "    log_writer.write('loss={:<7.5f} acc={} Params:{} nb_trees={}\\n'.format(test_loss, acc, params_str, nb_trees ))\n",
    "    log_writer.flush()\n",
    "\n",
    "    if test_loss<cur_best_loss:\n",
    "        cur_best_loss = test_loss\n",
    "        print(colorama.Fore.GREEN + 'NEW BEST LOSS={}'.format(cur_best_loss) + colorama.Fore.RESET)\n",
    "\n",
    "\n",
    "    return{'loss':test_loss, 'status': STATUS_OK }"
   ]
  },
  {
   "cell_type": "code",
   "execution_count": null,
   "metadata": {},
   "outputs": [],
   "source": [
    "space ={\n",
    "        'depth': hp.quniform(\"depth\", 4, 11, 1),\n",
    "        'rsm': hp.uniform ('rsm', 0.75, 1.0),\n",
    "        'learning_rate': hp.loguniform('learning_rate', -3.0, -0.7),\n",
    "        'l2_leaf_reg': hp.uniform('l2_leaf_reg', 1, 10),\n",
    "       }"
   ]
  },
  {
   "cell_type": "code",
   "execution_count": null,
   "metadata": {},
   "outputs": [],
   "source": [
    "trials = Trials()"
   ]
  },
  {
   "cell_type": "code",
   "execution_count": null,
   "metadata": {},
   "outputs": [],
   "source": [
    "%%time\n",
    "best = hyperopt.fmin(fn=objective,\n",
    "                     space=space,\n",
    "                     algo=HYPEROPT_ALGO,\n",
    "                     max_evals=N_HYPEROPT_PROBES,\n",
    "                     trials=trials,verbose=False)"
   ]
  }
 ],
 "metadata": {
  "kernelspec": {
   "display_name": "conda_pytorch_p36",
   "language": "python",
   "name": "conda_pytorch_p36"
  },
  "language_info": {
   "codemirror_mode": {
    "name": "ipython",
    "version": 3
   },
   "file_extension": ".py",
   "mimetype": "text/x-python",
   "name": "python",
   "nbconvert_exporter": "python",
   "pygments_lexer": "ipython3",
   "version": "3.6.5"
  },
  "toc": {
   "base_numbering": 1,
   "nav_menu": {},
   "number_sections": true,
   "sideBar": true,
   "skip_h1_title": false,
   "title_cell": "Table of Contents",
   "title_sidebar": "Contents",
   "toc_cell": false,
   "toc_position": {},
   "toc_section_display": true,
   "toc_window_display": false
  },
  "varInspector": {
   "cols": {
    "lenName": 16,
    "lenType": 16,
    "lenVar": 40
   },
   "kernels_config": {
    "python": {
     "delete_cmd_postfix": "",
     "delete_cmd_prefix": "del ",
     "library": "var_list.py",
     "varRefreshCmd": "print(var_dic_list())"
    },
    "r": {
     "delete_cmd_postfix": ") ",
     "delete_cmd_prefix": "rm(",
     "library": "var_list.r",
     "varRefreshCmd": "cat(var_dic_list()) "
    }
   },
   "types_to_exclude": [
    "module",
    "function",
    "builtin_function_or_method",
    "instance",
    "_Feature"
   ],
   "window_display": false
  }
 },
 "nbformat": 4,
 "nbformat_minor": 2
}
