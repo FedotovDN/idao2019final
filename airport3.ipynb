{
 "cells": [
  {
   "cell_type": "markdown",
   "metadata": {},
   "source": [
    "# IDAO: expected time of orders in airports\n",
    "\n",
    "Airports are special points for taxi service. Every day a lot of people use a taxi to get to the city centre from the airport.\n",
    "\n",
    "One of important task is to predict how long a driver need to wait an order. It helps to understand what to do. Maybe the driver have to wait near doors, or can drink a tea, or even should drive to city center without an order.\n",
    "\n",
    "We request you to solve a simple version of this prediction task.\n",
    "\n",
    "**Task:** predict time of $k$ orders in airport (time since now when you get an order if you are $k$-th in queue), $k$ is one of 5 values (different for every airports).\n",
    "\n",
    "**Data**\n",
    "- train: number of order for every minutes for 6 months\n",
    "- test: every test sample has datetime info + numer of order for every minutes for last 2 weeks\n",
    "\n",
    "**Submission:** for every airport you should prepare a model which will be evaluated in submission system (code + model files). You can make different models for different airports.\n",
    "\n",
    "**Evaluation:** for every airport for every $k$ sMAPE will be calculated and averaged. General leaderboard will be calculated via Borda count. \n",
    "\n",
    "## Baseline"
   ]
  },
  {
   "cell_type": "code",
   "execution_count": 1,
   "metadata": {},
   "outputs": [
    {
     "name": "stdout",
     "output_type": "stream",
     "text": [
      "Populating the interactive namespace from numpy and matplotlib\n"
     ]
    }
   ],
   "source": [
    "%pylab inline\n",
    "\n",
    "import catboost\n",
    "import pandas as pd\n",
    "import pickle\n",
    "import tqdm"
   ]
  },
  {
   "cell_type": "markdown",
   "metadata": {},
   "source": [
    "Let's prepare a model for set2."
   ]
  },
  {
   "cell_type": "markdown",
   "metadata": {},
   "source": [
    "# Load train dataset"
   ]
  },
  {
   "cell_type": "code",
   "execution_count": 2,
   "metadata": {},
   "outputs": [
    {
     "data": {
      "text/html": [
       "<div>\n",
       "<style scoped>\n",
       "    .dataframe tbody tr th:only-of-type {\n",
       "        vertical-align: middle;\n",
       "    }\n",
       "\n",
       "    .dataframe tbody tr th {\n",
       "        vertical-align: top;\n",
       "    }\n",
       "\n",
       "    .dataframe thead th {\n",
       "        text-align: right;\n",
       "    }\n",
       "</style>\n",
       "<table border=\"1\" class=\"dataframe\">\n",
       "  <thead>\n",
       "    <tr style=\"text-align: right;\">\n",
       "      <th></th>\n",
       "      <th>datetime</th>\n",
       "      <th>num_orders</th>\n",
       "    </tr>\n",
       "  </thead>\n",
       "  <tbody>\n",
       "    <tr>\n",
       "      <th>0</th>\n",
       "      <td>2018-02-01 00:00:00</td>\n",
       "      <td>0</td>\n",
       "    </tr>\n",
       "    <tr>\n",
       "      <th>1</th>\n",
       "      <td>2018-02-01 00:01:00</td>\n",
       "      <td>0</td>\n",
       "    </tr>\n",
       "    <tr>\n",
       "      <th>2</th>\n",
       "      <td>2018-02-01 00:02:00</td>\n",
       "      <td>0</td>\n",
       "    </tr>\n",
       "    <tr>\n",
       "      <th>3</th>\n",
       "      <td>2018-02-01 00:03:00</td>\n",
       "      <td>0</td>\n",
       "    </tr>\n",
       "    <tr>\n",
       "      <th>4</th>\n",
       "      <td>2018-02-01 00:04:00</td>\n",
       "      <td>0</td>\n",
       "    </tr>\n",
       "  </tbody>\n",
       "</table>\n",
       "</div>"
      ],
      "text/plain": [
       "             datetime  num_orders\n",
       "0 2018-02-01 00:00:00           0\n",
       "1 2018-02-01 00:01:00           0\n",
       "2 2018-02-01 00:02:00           0\n",
       "3 2018-02-01 00:03:00           0\n",
       "4 2018-02-01 00:04:00           0"
      ]
     },
     "execution_count": 2,
     "metadata": {},
     "output_type": "execute_result"
    }
   ],
   "source": [
    "set_name = 'set3'\n",
    "path_train_set = '../../data/train/{}.csv'.format(set_name)\n",
    "\n",
    "data = pd.read_csv(path_train_set)\n",
    "data.datetime = data.datetime.apply(\n",
    "    lambda x: datetime.datetime.strptime(x, '%Y-%m-%d %H:%M:%S'))\n",
    "data = data.sort_values('datetime')\n",
    "data.head()"
   ]
  },
  {
   "cell_type": "markdown",
   "metadata": {},
   "source": [
    "Predict position for set2."
   ]
  },
  {
   "cell_type": "code",
   "execution_count": 3,
   "metadata": {},
   "outputs": [],
   "source": [
    "target_positions = {\n",
    "    'set1': [10, 30, 45, 60, 75],\n",
    "    'set2': [5, 10, 15, 20, 25],\n",
    "    'set3': [5, 7, 9, 11, 13]\n",
    "}[set_name]"
   ]
  },
  {
   "cell_type": "markdown",
   "metadata": {},
   "source": [
    "Some useful constant."
   ]
  },
  {
   "cell_type": "code",
   "execution_count": 4,
   "metadata": {},
   "outputs": [],
   "source": [
    "HOUR_IN_MINUTES = 60\n",
    "DAY_IN_MINUTES = 24 * HOUR_IN_MINUTES\n",
    "WEEK_IN_MINUTES = 7 * DAY_IN_MINUTES\n",
    "\n",
    "MAX_TIME = DAY_IN_MINUTES"
   ]
  },
  {
   "cell_type": "markdown",
   "metadata": {},
   "source": [
    "## Generate train samples with targets"
   ]
  },
  {
   "cell_type": "markdown",
   "metadata": {},
   "source": [
    "We have only history of orders (count of orders in every minutes) but we need to predict time of k orders since current minutes. So we should calculate target for train set. Also we will make a lot of samples from all set (we can only use two weeks of history while prediction so we can use only two weeks in every train sample)."
   ]
  },
  {
   "cell_type": "code",
   "execution_count": 5,
   "metadata": {},
   "outputs": [],
   "source": [
    "samples = {\n",
    "    'datetime': [],\n",
    "    'history': []}\n",
    "\n",
    "for position in target_positions:\n",
    "    samples['target_{}'.format(position)] = []\n",
    "    \n",
    "num_orders = data.num_orders.values"
   ]
  },
  {
   "cell_type": "markdown",
   "metadata": {},
   "source": [
    "To calculate target (minutes before k orders) we are going to use cumulative sum of orders. "
   ]
  },
  {
   "cell_type": "code",
   "execution_count": 6,
   "metadata": {},
   "outputs": [],
   "source": [
    "# start after 2 weeks because of history\n",
    "# finish earlier because of target calculation\n",
    "for i in range(2 * WEEK_IN_MINUTES,\n",
    "               len(num_orders) - 2 * DAY_IN_MINUTES):\n",
    "    \n",
    "    samples['datetime'].append(data.datetime[i])\n",
    "    samples['history'].append(num_orders[i-2*WEEK_IN_MINUTES:i])\n",
    "    \n",
    "    # cumsum not for all array because of time economy\n",
    "    cumsum_num_orders = num_orders[i+1:i+1+2*DAY_IN_MINUTES].cumsum()\n",
    "    for position in target_positions:\n",
    "        orders_by_positions = np.where(cumsum_num_orders >= position)[0]\n",
    "        if len(orders_by_positions):\n",
    "            time = orders_by_positions[0] + 1\n",
    "        else:\n",
    "            # if no orders in last days\n",
    "            time = MAX_TIME\n",
    "        samples['target_{}'.format(position)].append(time)"
   ]
  },
  {
   "cell_type": "markdown",
   "metadata": {},
   "source": [
    "Convert to pandas.dataframe. Now we have targets to train and predict."
   ]
  },
  {
   "cell_type": "code",
   "execution_count": 31,
   "metadata": {},
   "outputs": [
    {
     "data": {
      "text/html": [
       "<div>\n",
       "<style scoped>\n",
       "    .dataframe tbody tr th:only-of-type {\n",
       "        vertical-align: middle;\n",
       "    }\n",
       "\n",
       "    .dataframe tbody tr th {\n",
       "        vertical-align: top;\n",
       "    }\n",
       "\n",
       "    .dataframe thead th {\n",
       "        text-align: right;\n",
       "    }\n",
       "</style>\n",
       "<table border=\"1\" class=\"dataframe\">\n",
       "  <thead>\n",
       "    <tr style=\"text-align: right;\">\n",
       "      <th></th>\n",
       "      <th>datetime</th>\n",
       "      <th>history</th>\n",
       "      <th>target_11</th>\n",
       "      <th>target_13</th>\n",
       "      <th>target_5</th>\n",
       "      <th>target_7</th>\n",
       "      <th>target_9</th>\n",
       "    </tr>\n",
       "  </thead>\n",
       "  <tbody>\n",
       "    <tr>\n",
       "      <th>0</th>\n",
       "      <td>2018-02-15 00:00:00</td>\n",
       "      <td>[0, 0, 0, 0, 0, 0, 0, 0, 0, 0, 0, 0, 0, 0, 0, ...</td>\n",
       "      <td>820</td>\n",
       "      <td>1167</td>\n",
       "      <td>308</td>\n",
       "      <td>418</td>\n",
       "      <td>421</td>\n",
       "    </tr>\n",
       "    <tr>\n",
       "      <th>1</th>\n",
       "      <td>2018-02-15 00:01:00</td>\n",
       "      <td>[0, 0, 0, 0, 0, 0, 0, 0, 0, 0, 0, 0, 0, 0, 0, ...</td>\n",
       "      <td>819</td>\n",
       "      <td>1166</td>\n",
       "      <td>307</td>\n",
       "      <td>417</td>\n",
       "      <td>420</td>\n",
       "    </tr>\n",
       "    <tr>\n",
       "      <th>2</th>\n",
       "      <td>2018-02-15 00:02:00</td>\n",
       "      <td>[0, 0, 0, 0, 0, 0, 0, 0, 0, 0, 0, 0, 0, 0, 0, ...</td>\n",
       "      <td>818</td>\n",
       "      <td>1165</td>\n",
       "      <td>306</td>\n",
       "      <td>416</td>\n",
       "      <td>419</td>\n",
       "    </tr>\n",
       "    <tr>\n",
       "      <th>3</th>\n",
       "      <td>2018-02-15 00:03:00</td>\n",
       "      <td>[0, 0, 0, 0, 0, 0, 0, 0, 0, 0, 0, 0, 0, 0, 0, ...</td>\n",
       "      <td>817</td>\n",
       "      <td>1164</td>\n",
       "      <td>305</td>\n",
       "      <td>415</td>\n",
       "      <td>418</td>\n",
       "    </tr>\n",
       "    <tr>\n",
       "      <th>4</th>\n",
       "      <td>2018-02-15 00:04:00</td>\n",
       "      <td>[0, 0, 0, 0, 0, 0, 0, 0, 0, 0, 0, 0, 0, 0, 0, ...</td>\n",
       "      <td>816</td>\n",
       "      <td>1163</td>\n",
       "      <td>304</td>\n",
       "      <td>414</td>\n",
       "      <td>417</td>\n",
       "    </tr>\n",
       "  </tbody>\n",
       "</table>\n",
       "</div>"
      ],
      "text/plain": [
       "             datetime                                            history  \\\n",
       "0 2018-02-15 00:00:00  [0, 0, 0, 0, 0, 0, 0, 0, 0, 0, 0, 0, 0, 0, 0, ...   \n",
       "1 2018-02-15 00:01:00  [0, 0, 0, 0, 0, 0, 0, 0, 0, 0, 0, 0, 0, 0, 0, ...   \n",
       "2 2018-02-15 00:02:00  [0, 0, 0, 0, 0, 0, 0, 0, 0, 0, 0, 0, 0, 0, 0, ...   \n",
       "3 2018-02-15 00:03:00  [0, 0, 0, 0, 0, 0, 0, 0, 0, 0, 0, 0, 0, 0, 0, ...   \n",
       "4 2018-02-15 00:04:00  [0, 0, 0, 0, 0, 0, 0, 0, 0, 0, 0, 0, 0, 0, 0, ...   \n",
       "\n",
       "   target_11  target_13  target_5  target_7  target_9  \n",
       "0        820       1167       308       418       421  \n",
       "1        819       1166       307       417       420  \n",
       "2        818       1165       306       416       419  \n",
       "3        817       1164       305       415       418  \n",
       "4        816       1163       304       414       417  "
      ]
     },
     "execution_count": 31,
     "metadata": {},
     "output_type": "execute_result"
    }
   ],
   "source": [
    "df = pd.DataFrame.from_dict(samples)\n",
    "df.head()"
   ]
  },
  {
   "cell_type": "markdown",
   "metadata": {},
   "source": [
    "# Train model"
   ]
  },
  {
   "cell_type": "markdown",
   "metadata": {},
   "source": [
    "Let's generate simple features.\n",
    "\n",
    "By time:"
   ]
  },
  {
   "cell_type": "code",
   "execution_count": 32,
   "metadata": {},
   "outputs": [],
   "source": [
    "df['weekday'] = df.datetime.apply(lambda x: x.weekday())\n",
    "df['hour'] = df.datetime.apply(lambda x: x.hour)\n",
    "df['minute'] = df.datetime.apply(lambda x: x.minute)\n",
    "df['month'] = df.datetime.apply(lambda x: x.month)\n",
    "df['is_night'] = df.datetime.apply(lambda x: 1.0 if (x.hour < 6) else 0.0)"
   ]
  },
  {
   "cell_type": "code",
   "execution_count": 33,
   "metadata": {},
   "outputs": [],
   "source": [
    "df['is_weekend'] = df.datetime.apply(lambda x: 1.0 if (x.weekday() >=5)\n",
    "                              or ((x.day == 23) and (x.month == 2))\n",
    "                              or ((x.day == 8) and (x.month == 3))\n",
    "                              or ((x.day == 9) and (x.month == 3))\n",
    "                              or ((x.day == 30) and (x.month == 4))\n",
    "                              or ((x.day == 1) and (x.month == 5))\n",
    "                              or ((x.day == 2) and (x.month == 5))\n",
    "                              or ((x.day == 9) and (x.month == 5))\n",
    "                              or ((x.day == 11) and (x.month == 6))\n",
    "                              or ((x.day == 12) and (x.month == 6))\n",
    "                             else 0.0)"
   ]
  },
  {
   "cell_type": "markdown",
   "metadata": {},
   "source": [
    "Aggregators by order history with different shift and window size:"
   ]
  },
  {
   "cell_type": "code",
   "execution_count": 34,
   "metadata": {},
   "outputs": [],
   "source": [
    "SHIFTS = [\n",
    "    HOUR_IN_MINUTES // 4,\n",
    "    HOUR_IN_MINUTES // 2,\n",
    "    HOUR_IN_MINUTES,\n",
    "    DAY_IN_MINUTES,\n",
    "    DAY_IN_MINUTES * 2,\n",
    "    DAY_IN_MINUTES * 3,\n",
    "    WEEK_IN_MINUTES,\n",
    "    WEEK_IN_MINUTES * 2]\n",
    "WINDOWS = [\n",
    "    HOUR_IN_MINUTES // 4,\n",
    "    HOUR_IN_MINUTES // 2,\n",
    "    HOUR_IN_MINUTES,\n",
    "    DAY_IN_MINUTES,\n",
    "    DAY_IN_MINUTES * 2,\n",
    "    WEEK_IN_MINUTES,\n",
    "    WEEK_IN_MINUTES * 2]"
   ]
  },
  {
   "cell_type": "code",
   "execution_count": 35,
   "metadata": {},
   "outputs": [],
   "source": [
    "for shift in SHIFTS:\n",
    "    for window in WINDOWS:\n",
    "        temp = 0\n",
    "        if window > shift:\n",
    "            continue\n",
    "        if shift == window:\n",
    "            df['num_orders_{}_{}'.format(shift, window)] = df.history.apply(lambda x: x[-shift : -1].sum())\n",
    "        else:\n",
    "            df['num_orders_{}_{}'.format(shift, window)] = df.history.apply(lambda x: x[-shift : -shift + window].sum())"
   ]
  },
  {
   "cell_type": "markdown",
   "metadata": {},
   "source": [
    "Train/validation split for time. Let's use last 4 weeks for validation."
   ]
  },
  {
   "cell_type": "code",
   "execution_count": 36,
   "metadata": {},
   "outputs": [
    {
     "data": {
      "text/plain": [
       "(Timestamp('2018-02-15 00:00:00'), Timestamp('2018-07-29 23:59:00'))"
      ]
     },
     "execution_count": 36,
     "metadata": {},
     "output_type": "execute_result"
    }
   ],
   "source": [
    "df.datetime.min(), df.datetime.max()"
   ]
  },
  {
   "cell_type": "code",
   "execution_count": 37,
   "metadata": {},
   "outputs": [],
   "source": [
    "df_train = df.loc[df.datetime <= df.datetime.max() - datetime.timedelta(days=28)]\n",
    "df_test = df.loc[df.datetime > df.datetime.max() - datetime.timedelta(days=28)]\n",
    "#from sklearn.model_selection import train_test_split\n",
    "#№df_train, df_test = train_test_split(df, test_size=0.2, shuffle=True)"
   ]
  },
  {
   "cell_type": "code",
   "execution_count": 38,
   "metadata": {},
   "outputs": [],
   "source": [
    "target_cols = ['target_{}'.format(position) for position in target_positions]\n",
    "\n",
    "y_train = df_train[target_cols]\n",
    "y_test = df_test[target_cols]\n",
    "\n",
    "\n",
    "\n",
    "df_train = df_train.drop(['datetime', 'history'] + target_cols, axis=1)\n",
    "df_test = df_test.drop(['datetime', 'history'] + target_cols, axis=1)"
   ]
  },
  {
   "cell_type": "code",
   "execution_count": 39,
   "metadata": {},
   "outputs": [],
   "source": [
    "X_all = df.drop(['datetime', 'history'] + target_cols, axis=1)\n",
    "y_all = df[target_cols]"
   ]
  },
  {
   "cell_type": "code",
   "execution_count": 40,
   "metadata": {},
   "outputs": [],
   "source": [
    "def sMAPE(y_true, y_predict, shift=0):\n",
    "    return 2 * np.mean(\n",
    "        np.abs(y_true - y_predict) /\n",
    "        (np.abs(y_true) + np.abs(y_predict) + shift))"
   ]
  },
  {
   "cell_type": "markdown",
   "metadata": {},
   "source": [
    "Also we will save models for prediction stage."
   ]
  },
  {
   "cell_type": "code",
   "execution_count": 41,
   "metadata": {},
   "outputs": [],
   "source": [
    "model_to_save = {\n",
    "    'models': {}\n",
    "}"
   ]
  },
  {
   "cell_type": "markdown",
   "metadata": {},
   "source": [
    "What is good or bad model? We can compare our model with constant solution. For instance median (optimal solution for MAE)."
   ]
  },
  {
   "cell_type": "code",
   "execution_count": 53,
   "metadata": {},
   "outputs": [],
   "source": [
    "model = catboost.CatBoostRegressor(iterations=2000, learning_rate=1.0, \n",
    "        depth = 6,\n",
    "        l2_leaf_reg = 9,\n",
    "        rsm = 0.5,\n",
    "        loss_function='MAE', \n",
    "        random_seed=27)"
   ]
  },
  {
   "cell_type": "code",
   "execution_count": 54,
   "metadata": {},
   "outputs": [
    {
     "data": {
      "text/plain": [
       "<catboost.core.CatBoostRegressor at 0x7fa330541ef0>"
      ]
     },
     "execution_count": 54,
     "metadata": {},
     "output_type": "execute_result"
    }
   ],
   "source": [
    "model.fit(\n",
    "        #X=X,\n",
    "        #y=y['target_{}'.format(position)],\n",
    "        X=df_train,\n",
    "        y=y_train['target_{}'.format(position)],\n",
    "        #use_best_model=True,\n",
    "        #eval_set=(df_test, y_test['target_{}'.format(position)]),\n",
    "        verbose=False)"
   ]
  },
  {
   "cell_type": "code",
   "execution_count": 50,
   "metadata": {},
   "outputs": [
    {
     "name": "stdout",
     "output_type": "stream",
     "text": [
      "target_5\n",
      "stupid:\t0.6113491702802483\n",
      "model:\t0.4653506710843815\n",
      "\n",
      "target_7\n",
      "stupid:\t0.5761401162272479\n",
      "model:\t0.4152161794093717\n",
      "\n"
     ]
    },
    {
     "ename": "KeyboardInterrupt",
     "evalue": "",
     "output_type": "error",
     "traceback": [
      "\u001b[0;31m---------------------------------------------------------------------------\u001b[0m",
      "\u001b[0;31mKeyboardInterrupt\u001b[0m                         Traceback (most recent call last)",
      "\u001b[0;32m<ipython-input-50-97bb86b5dce5>\u001b[0m in \u001b[0;36m<module>\u001b[0;34m()\u001b[0m\n\u001b[1;32m     14\u001b[0m         \u001b[0;31m#use_best_model=True,\u001b[0m\u001b[0;34m\u001b[0m\u001b[0;34m\u001b[0m\u001b[0m\n\u001b[1;32m     15\u001b[0m         \u001b[0;31m#eval_set=(df_test, y_test['target_{}'.format(position)]),\u001b[0m\u001b[0;34m\u001b[0m\u001b[0;34m\u001b[0m\u001b[0m\n\u001b[0;32m---> 16\u001b[0;31m         verbose=False)\n\u001b[0m\u001b[1;32m     17\u001b[0m     \u001b[0my_predict\u001b[0m \u001b[0;34m=\u001b[0m \u001b[0mmodel\u001b[0m\u001b[0;34m.\u001b[0m\u001b[0mpredict\u001b[0m\u001b[0;34m(\u001b[0m\u001b[0mdf_test\u001b[0m\u001b[0;34m)\u001b[0m\u001b[0;34m\u001b[0m\u001b[0m\n\u001b[1;32m     18\u001b[0m \u001b[0;34m\u001b[0m\u001b[0m\n",
      "\u001b[0;32m~/anaconda3/envs/pytorch_p36/lib/python3.6/site-packages/catboost/core.py\u001b[0m in \u001b[0;36mfit\u001b[0;34m(self, X, y, cat_features, sample_weight, baseline, use_best_model, eval_set, verbose, logging_level, plot, column_description, verbose_eval, metric_period, silent, early_stopping_rounds, save_snapshot, snapshot_file, snapshot_interval)\u001b[0m\n\u001b[1;32m   2699\u001b[0m                          \u001b[0muse_best_model\u001b[0m\u001b[0;34m,\u001b[0m \u001b[0meval_set\u001b[0m\u001b[0;34m,\u001b[0m \u001b[0mverbose\u001b[0m\u001b[0;34m,\u001b[0m \u001b[0mlogging_level\u001b[0m\u001b[0;34m,\u001b[0m \u001b[0mplot\u001b[0m\u001b[0;34m,\u001b[0m \u001b[0mcolumn_description\u001b[0m\u001b[0;34m,\u001b[0m\u001b[0;34m\u001b[0m\u001b[0m\n\u001b[1;32m   2700\u001b[0m                          \u001b[0mverbose_eval\u001b[0m\u001b[0;34m,\u001b[0m \u001b[0mmetric_period\u001b[0m\u001b[0;34m,\u001b[0m \u001b[0msilent\u001b[0m\u001b[0;34m,\u001b[0m \u001b[0mearly_stopping_rounds\u001b[0m\u001b[0;34m,\u001b[0m\u001b[0;34m\u001b[0m\u001b[0m\n\u001b[0;32m-> 2701\u001b[0;31m                          save_snapshot, snapshot_file, snapshot_interval)\n\u001b[0m\u001b[1;32m   2702\u001b[0m \u001b[0;34m\u001b[0m\u001b[0m\n\u001b[1;32m   2703\u001b[0m     \u001b[0;32mdef\u001b[0m \u001b[0mpredict\u001b[0m\u001b[0;34m(\u001b[0m\u001b[0mself\u001b[0m\u001b[0;34m,\u001b[0m \u001b[0mdata\u001b[0m\u001b[0;34m,\u001b[0m \u001b[0mntree_start\u001b[0m\u001b[0;34m=\u001b[0m\u001b[0;36m0\u001b[0m\u001b[0;34m,\u001b[0m \u001b[0mntree_end\u001b[0m\u001b[0;34m=\u001b[0m\u001b[0;36m0\u001b[0m\u001b[0;34m,\u001b[0m \u001b[0mthread_count\u001b[0m\u001b[0;34m=\u001b[0m\u001b[0;34m-\u001b[0m\u001b[0;36m1\u001b[0m\u001b[0;34m,\u001b[0m \u001b[0mverbose\u001b[0m\u001b[0;34m=\u001b[0m\u001b[0;32mNone\u001b[0m\u001b[0;34m)\u001b[0m\u001b[0;34m:\u001b[0m\u001b[0;34m\u001b[0m\u001b[0m\n",
      "\u001b[0;32m~/anaconda3/envs/pytorch_p36/lib/python3.6/site-packages/catboost/core.py\u001b[0m in \u001b[0;36m_fit\u001b[0;34m(self, X, y, cat_features, pairs, sample_weight, group_id, group_weight, subgroup_id, pairs_weight, baseline, use_best_model, eval_set, verbose, logging_level, plot, column_description, verbose_eval, metric_period, silent, early_stopping_rounds, save_snapshot, snapshot_file, snapshot_interval)\u001b[0m\n\u001b[1;32m   1171\u001b[0m \u001b[0;34m\u001b[0m\u001b[0m\n\u001b[1;32m   1172\u001b[0m         \u001b[0;32mwith\u001b[0m \u001b[0mlog_fixup\u001b[0m\u001b[0;34m(\u001b[0m\u001b[0;34m)\u001b[0m\u001b[0;34m,\u001b[0m \u001b[0mplot_wrapper\u001b[0m\u001b[0;34m(\u001b[0m\u001b[0mplot\u001b[0m\u001b[0;34m,\u001b[0m \u001b[0mself\u001b[0m\u001b[0;34m.\u001b[0m\u001b[0mget_params\u001b[0m\u001b[0;34m(\u001b[0m\u001b[0;34m)\u001b[0m\u001b[0;34m)\u001b[0m\u001b[0;34m:\u001b[0m\u001b[0;34m\u001b[0m\u001b[0m\n\u001b[0;32m-> 1173\u001b[0;31m             \u001b[0mself\u001b[0m\u001b[0;34m.\u001b[0m\u001b[0m_train\u001b[0m\u001b[0;34m(\u001b[0m\u001b[0mtrain_pool\u001b[0m\u001b[0;34m,\u001b[0m \u001b[0meval_sets\u001b[0m\u001b[0;34m,\u001b[0m \u001b[0mparams\u001b[0m\u001b[0;34m,\u001b[0m \u001b[0mallow_clear_pool\u001b[0m\u001b[0;34m)\u001b[0m\u001b[0;34m\u001b[0m\u001b[0m\n\u001b[0m\u001b[1;32m   1174\u001b[0m \u001b[0;34m\u001b[0m\u001b[0m\n\u001b[1;32m   1175\u001b[0m         \u001b[0;32mif\u001b[0m \u001b[0;34m(\u001b[0m\u001b[0;32mnot\u001b[0m \u001b[0mself\u001b[0m\u001b[0;34m.\u001b[0m\u001b[0m_object\u001b[0m\u001b[0;34m.\u001b[0m\u001b[0m_has_leaf_weights_in_model\u001b[0m\u001b[0;34m(\u001b[0m\u001b[0;34m)\u001b[0m\u001b[0;34m)\u001b[0m \u001b[0;32mand\u001b[0m \u001b[0mallow_clear_pool\u001b[0m\u001b[0;34m:\u001b[0m\u001b[0;34m\u001b[0m\u001b[0m\n",
      "\u001b[0;32m~/anaconda3/envs/pytorch_p36/lib/python3.6/site-packages/catboost/core.py\u001b[0m in \u001b[0;36m_train\u001b[0;34m(self, train_pool, test_pool, params, allow_clear_pool)\u001b[0m\n\u001b[1;32m    864\u001b[0m \u001b[0;34m\u001b[0m\u001b[0m\n\u001b[1;32m    865\u001b[0m     \u001b[0;32mdef\u001b[0m \u001b[0m_train\u001b[0m\u001b[0;34m(\u001b[0m\u001b[0mself\u001b[0m\u001b[0;34m,\u001b[0m \u001b[0mtrain_pool\u001b[0m\u001b[0;34m,\u001b[0m \u001b[0mtest_pool\u001b[0m\u001b[0;34m,\u001b[0m \u001b[0mparams\u001b[0m\u001b[0;34m,\u001b[0m \u001b[0mallow_clear_pool\u001b[0m\u001b[0;34m)\u001b[0m\u001b[0;34m:\u001b[0m\u001b[0;34m\u001b[0m\u001b[0m\n\u001b[0;32m--> 866\u001b[0;31m         \u001b[0mself\u001b[0m\u001b[0;34m.\u001b[0m\u001b[0m_object\u001b[0m\u001b[0;34m.\u001b[0m\u001b[0m_train\u001b[0m\u001b[0;34m(\u001b[0m\u001b[0mtrain_pool\u001b[0m\u001b[0;34m,\u001b[0m \u001b[0mtest_pool\u001b[0m\u001b[0;34m,\u001b[0m \u001b[0mparams\u001b[0m\u001b[0;34m,\u001b[0m \u001b[0mallow_clear_pool\u001b[0m\u001b[0;34m)\u001b[0m\u001b[0;34m\u001b[0m\u001b[0m\n\u001b[0m\u001b[1;32m    867\u001b[0m         \u001b[0mself\u001b[0m\u001b[0;34m.\u001b[0m\u001b[0m_set_trained_model_attributes\u001b[0m\u001b[0;34m(\u001b[0m\u001b[0;34m)\u001b[0m\u001b[0;34m\u001b[0m\u001b[0m\n\u001b[1;32m    868\u001b[0m \u001b[0;34m\u001b[0m\u001b[0m\n",
      "\u001b[0;32m_catboost.pyx\u001b[0m in \u001b[0;36m_catboost._CatBoost._train\u001b[0;34m()\u001b[0m\n",
      "\u001b[0;32m_catboost.pyx\u001b[0m in \u001b[0;36m_catboost._CatBoost._train\u001b[0;34m()\u001b[0m\n",
      "\u001b[0;31mKeyboardInterrupt\u001b[0m: "
     ]
    }
   ],
   "source": [
    "for position in target_positions:\n",
    "    model = catboost.CatBoostRegressor(iterations=4000, learning_rate=1.0, \n",
    "        depth = 6,\n",
    "        l2_leaf_reg = 9,\n",
    "        rsm = 0.5,\n",
    "        loss_function='MAE', \n",
    "        random_seed=27)\n",
    "    \n",
    "    model.fit(\n",
    "        #X=X,\n",
    "        #y=y['target_{}'.format(position)],\n",
    "        X=df_train,\n",
    "        y=y_train['target_{}'.format(position)],\n",
    "        #use_best_model=True,\n",
    "        #eval_set=(df_test, y_test['target_{}'.format(position)]),\n",
    "        verbose=False)\n",
    "    y_predict = model.predict(df_test)\n",
    "    \n",
    "    print('target_{}'.format(position))\n",
    "    print('stupid:\\t{}'.format(sMAPE(\n",
    "        y_test['target_{}'.format(position)],\n",
    "        y_train['target_{}'.format(position)].median())))\n",
    "    print('model:\\t{}'.format(sMAPE(\n",
    "        y_test['target_{}'.format(position)],\n",
    "        y_predict)))\n",
    "    print()\n",
    "    \n",
    "    model_to_save['models'][position] = model"
   ]
  },
  {
   "cell_type": "code",
   "execution_count": 47,
   "metadata": {},
   "outputs": [
    {
     "name": "stdout",
     "output_type": "stream",
     "text": [
      "target_5\n",
      "stupid:\t0.6113491702802483\n",
      "model:\t0.44629006744668015\n",
      "\n",
      "target_7\n",
      "stupid:\t0.5761401162272479\n",
      "model:\t0.40026816959020467\n",
      "\n",
      "target_9\n",
      "stupid:\t0.5630557259108779\n",
      "model:\t0.38722877250155296\n",
      "\n",
      "target_11\n",
      "stupid:\t0.5587023576311817\n",
      "model:\t0.35561401771114176\n",
      "\n",
      "target_13\n",
      "stupid:\t0.5513765273934248\n",
      "model:\t0.3132603080259751\n",
      "\n"
     ]
    }
   ],
   "source": [
    "for position in target_positions:\n",
    "    model = catboost.CatBoostRegressor(\n",
    "        iterations=4000, \n",
    "        learning_rate=1.0, \n",
    "        loss_function='MAE',\n",
    "        random_seed = 27\n",
    "    )\n",
    "    model.fit(\n",
    "        X=df_train,\n",
    "        y=y_train['target_{}'.format(position)],\n",
    "        use_best_model=True,\n",
    "        eval_set=(df_test, y_test['target_{}'.format(position)]),\n",
    "        verbose=False)\n",
    "    y_predict = model.predict(df_test)\n",
    "    \n",
    "    print('target_{}'.format(position))\n",
    "    print('stupid:\\t{}'.format(sMAPE(\n",
    "        y_test['target_{}'.format(position)],\n",
    "        y_train['target_{}'.format(position)].median())))\n",
    "    print('model:\\t{}'.format(sMAPE(\n",
    "        y_test['target_{}'.format(position)],\n",
    "        y_predict)))\n",
    "    print()\n",
    "    \n",
    "    model_to_save['models'][position] = model"
   ]
  },
  {
   "cell_type": "code",
   "execution_count": 56,
   "metadata": {},
   "outputs": [
    {
     "name": "stdout",
     "output_type": "stream",
     "text": [
      "5\n",
      "not 7\n",
      "not 9\n",
      "not 11\n",
      "not 13\n",
      "target_5\n",
      "stupid:\t0.6113491702802483\n",
      "model:\t0.4488429575577311\n",
      "\n",
      "not 5\n",
      "7\n",
      "not 9\n",
      "not 11\n",
      "not 13\n",
      "target_7\n",
      "stupid:\t0.5761401162272479\n",
      "model:\t0.3980924615070586\n",
      "\n",
      "not 5\n",
      "not 7\n",
      "9\n",
      "not 11\n",
      "not 13\n",
      "target_9\n",
      "stupid:\t0.5630557259108779\n",
      "model:\t0.3744194734229844\n",
      "\n",
      "not 5\n",
      "not 7\n",
      "not 9\n",
      "11\n",
      "not 13\n",
      "target_11\n",
      "stupid:\t0.5587023576311817\n",
      "model:\t0.3409071918454904\n",
      "\n",
      "not 5\n",
      "not 7\n",
      "not 9\n",
      "not 11\n",
      "13\n",
      "target_13\n",
      "stupid:\t0.5513765273934248\n",
      "model:\t0.3073526761423234\n",
      "\n"
     ]
    }
   ],
   "source": [
    "for position in target_positions:\n",
    "    if str(position) == '5':\n",
    "        print('5')\n",
    "        model = catboost.CatBoostRegressor(iterations=2000, learning_rate=1.0, \n",
    "            depth = 6,\n",
    "            l2_leaf_reg = 9,\n",
    "            rsm = 0.5,\n",
    "            loss_function='MAE', \n",
    "            random_seed=27)\n",
    "    else:\n",
    "        print('not 5')\n",
    "\n",
    "    if str(position) == '7':\n",
    "        print('7')\n",
    "        model = catboost.CatBoostRegressor(iterations=2000, learning_rate=1.0, \n",
    "            depth = 3,\n",
    "            l2_leaf_reg = 8,\n",
    "            rsm = 1.0,\n",
    "            loss_function='MAE', \n",
    "            random_seed=27)\n",
    "    else:\n",
    "        print('not 7')\n",
    "        \n",
    "    if str(position) == '9':\n",
    "        print('9')\n",
    "        model = catboost.CatBoostRegressor(iterations=2000, learning_rate=1.0, \n",
    "            depth = 3,\n",
    "            l2_leaf_reg = 8,\n",
    "            rsm = 0.7,\n",
    "            loss_function='MAE', \n",
    "            random_seed=27)\n",
    "    else:\n",
    "        print('not 9')\n",
    "        \n",
    "    if str(position) == '11':\n",
    "        print('11')\n",
    "        model = catboost.CatBoostRegressor(iterations=2000, learning_rate=1.0, \n",
    "            depth = 3,\n",
    "            l2_leaf_reg = 2,\n",
    "            rsm = 0.2,\n",
    "            loss_function='MAE', \n",
    "            random_seed=27)\n",
    "    else:\n",
    "        print('not 11')\n",
    "        \n",
    "    if str(position) == '13':\n",
    "        print('13')\n",
    "        model = catboost.CatBoostRegressor(iterations=2000, learning_rate=1.0, \n",
    "            depth = 4,\n",
    "            l2_leaf_reg = 5,\n",
    "            rsm = 1.0,\n",
    "            loss_function='MAE', \n",
    "            random_seed=27)\n",
    "    else:\n",
    "        print('not 13')\n",
    "        \n",
    "        \n",
    "    model.fit(\n",
    "            #X=X,\n",
    "            #y=y['target_{}'.format(position)],\n",
    "            X=df_train,\n",
    "            y=y_train['target_{}'.format(position)],\n",
    "            use_best_model=True,\n",
    "            eval_set=(df_test, y_test['target_{}'.format(position)]),\n",
    "            verbose=False)\n",
    "    y_predict = model.predict(df_test)\n",
    "    \n",
    "    print('target_{}'.format(position))\n",
    "    print('stupid:\\t{}'.format(sMAPE(\n",
    "        y_test['target_{}'.format(position)],\n",
    "        y_train['target_{}'.format(position)].median())))\n",
    "    print('model:\\t{}'.format(sMAPE(\n",
    "        y_test['target_{}'.format(position)],\n",
    "        y_predict)))\n",
    "    print()\n",
    "    \n",
    "    model_to_save['models'][position] = model"
   ]
  },
  {
   "cell_type": "markdown",
   "metadata": {},
   "source": [
    "Our model is better than constant solution. Saving model."
   ]
  },
  {
   "cell_type": "code",
   "execution_count": 58,
   "metadata": {},
   "outputs": [],
   "source": [
    "pickle.dump(model_to_save, open('models.pkl', 'wb'))"
   ]
  },
  {
   "cell_type": "code",
   "execution_count": null,
   "metadata": {},
   "outputs": [],
   "source": []
  },
  {
   "cell_type": "code",
   "execution_count": 49,
   "metadata": {},
   "outputs": [
    {
     "data": {
      "text/plain": [
       "{'random_seed': 27,\n",
       " 'loss_function': 'MAE',\n",
       " 'learning_rate': 1.0,\n",
       " 'iterations': 4000}"
      ]
     },
     "execution_count": 49,
     "metadata": {},
     "output_type": "execute_result"
    }
   ],
   "source": [
    "model.get_params()"
   ]
  },
  {
   "cell_type": "code",
   "execution_count": 55,
   "metadata": {},
   "outputs": [
    {
     "name": "stdout",
     "output_type": "stream",
     "text": [
      "weekday: 6.143948700366711\n",
      "hour: 23.605474382501292\n",
      "minute: 0.0006794520347450518\n",
      "month: 5.585949873254162\n",
      "is_night: 4.3527187575109645\n",
      "is_weekend: 4.067210618177978\n",
      "num_orders_15_15: 0.0005128637894288646\n",
      "num_orders_30_15: 0.00014816361723875006\n",
      "num_orders_30_30: 0.0006282319181745852\n",
      "num_orders_60_15: 2.3369250046621812e-06\n",
      "num_orders_60_30: 4.180413239997616e-05\n",
      "num_orders_60_60: 0.0610304887675931\n",
      "num_orders_1440_15: 4.1900446878010794e-05\n",
      "num_orders_1440_30: 0.002279065253795308\n",
      "num_orders_1440_60: 0.04228322857860064\n",
      "num_orders_1440_1440: 3.9123441745148493\n",
      "num_orders_2880_15: 0.000106718351020746\n",
      "num_orders_2880_30: 0.0007061043101085461\n",
      "num_orders_2880_60: 0.006973488747462156\n",
      "num_orders_2880_1440: 4.091152889888406\n",
      "num_orders_2880_2880: 6.319928187758897\n",
      "num_orders_4320_15: 0.00018996416469133372\n",
      "num_orders_4320_30: 0.0010398421727513952\n",
      "num_orders_4320_60: 0.016337033623790874\n",
      "num_orders_4320_1440: 4.657913849103723\n",
      "num_orders_4320_2880: 5.057002696376291\n",
      "num_orders_10080_15: 0.0002830017905841699\n",
      "num_orders_10080_30: 0.0036720939927213678\n",
      "num_orders_10080_60: 0.041456225606775206\n",
      "num_orders_10080_1440: 2.0069713006514616\n",
      "num_orders_10080_2880: 6.6615880827666345\n",
      "num_orders_10080_10080: 4.0994138788884324\n",
      "num_orders_20160_15: 0.001293732330970708\n",
      "num_orders_20160_30: 0.0042666999395904485\n",
      "num_orders_20160_60: 0.02898484646424967\n",
      "num_orders_20160_1440: 1.5268419006975322\n",
      "num_orders_20160_2880: 3.498213849581895\n",
      "num_orders_20160_10080: 5.103459522648636\n",
      "num_orders_20160_20160: 9.09691004835354\n"
     ]
    }
   ],
   "source": [
    "for i in range(len(model.feature_importances_)):\n",
    "    print(model.feature_names_[i] + ': ' + str(model.feature_importances_[i]))"
   ]
  },
  {
   "cell_type": "code",
   "execution_count": 219,
   "metadata": {},
   "outputs": [
    {
     "data": {
      "text/html": [
       "<div>\n",
       "<style scoped>\n",
       "    .dataframe tbody tr th:only-of-type {\n",
       "        vertical-align: middle;\n",
       "    }\n",
       "\n",
       "    .dataframe tbody tr th {\n",
       "        vertical-align: top;\n",
       "    }\n",
       "\n",
       "    .dataframe thead th {\n",
       "        text-align: right;\n",
       "    }\n",
       "</style>\n",
       "<table border=\"1\" class=\"dataframe\">\n",
       "  <thead>\n",
       "    <tr style=\"text-align: right;\">\n",
       "      <th></th>\n",
       "      <th>datetime</th>\n",
       "      <th>history</th>\n",
       "      <th>target_10</th>\n",
       "      <th>target_30</th>\n",
       "      <th>target_45</th>\n",
       "      <th>target_60</th>\n",
       "      <th>target_75</th>\n",
       "      <th>weekday</th>\n",
       "      <th>hour</th>\n",
       "      <th>minute</th>\n",
       "      <th>...</th>\n",
       "      <th>num_orders_10080_30</th>\n",
       "      <th>num_orders_10080_60</th>\n",
       "      <th>num_orders_10080_1440</th>\n",
       "      <th>num_orders_10080_10080</th>\n",
       "      <th>num_orders_20160_15</th>\n",
       "      <th>num_orders_20160_30</th>\n",
       "      <th>num_orders_20160_60</th>\n",
       "      <th>num_orders_20160_1440</th>\n",
       "      <th>num_orders_20160_10080</th>\n",
       "      <th>num_orders_20160_20160</th>\n",
       "    </tr>\n",
       "  </thead>\n",
       "  <tbody>\n",
       "    <tr>\n",
       "      <th>0</th>\n",
       "      <td>2018-03-15 00:00:00</td>\n",
       "      <td>[0, 0, 0, 0, 1, 2, 0, 1, 1, 4, 0, 1, 1, 1, 1, ...</td>\n",
       "      <td>5</td>\n",
       "      <td>18</td>\n",
       "      <td>28</td>\n",
       "      <td>32</td>\n",
       "      <td>42</td>\n",
       "      <td>3</td>\n",
       "      <td>0</td>\n",
       "      <td>0</td>\n",
       "      <td>...</td>\n",
       "      <td>59</td>\n",
       "      <td>143</td>\n",
       "      <td>1659</td>\n",
       "      <td>9871</td>\n",
       "      <td>13</td>\n",
       "      <td>51</td>\n",
       "      <td>124</td>\n",
       "      <td>1364</td>\n",
       "      <td>9110</td>\n",
       "      <td>18981</td>\n",
       "    </tr>\n",
       "    <tr>\n",
       "      <th>1</th>\n",
       "      <td>2018-03-15 00:01:00</td>\n",
       "      <td>[0, 0, 0, 1, 2, 0, 1, 1, 4, 0, 1, 1, 1, 1, 3, ...</td>\n",
       "      <td>5</td>\n",
       "      <td>19</td>\n",
       "      <td>27</td>\n",
       "      <td>32</td>\n",
       "      <td>42</td>\n",
       "      <td>3</td>\n",
       "      <td>0</td>\n",
       "      <td>1</td>\n",
       "      <td>...</td>\n",
       "      <td>60</td>\n",
       "      <td>145</td>\n",
       "      <td>1658</td>\n",
       "      <td>9870</td>\n",
       "      <td>16</td>\n",
       "      <td>53</td>\n",
       "      <td>126</td>\n",
       "      <td>1364</td>\n",
       "      <td>9111</td>\n",
       "      <td>18981</td>\n",
       "    </tr>\n",
       "    <tr>\n",
       "      <th>2</th>\n",
       "      <td>2018-03-15 00:02:00</td>\n",
       "      <td>[0, 0, 1, 2, 0, 1, 1, 4, 0, 1, 1, 1, 1, 3, 2, ...</td>\n",
       "      <td>7</td>\n",
       "      <td>20</td>\n",
       "      <td>27</td>\n",
       "      <td>33</td>\n",
       "      <td>43</td>\n",
       "      <td>3</td>\n",
       "      <td>0</td>\n",
       "      <td>2</td>\n",
       "      <td>...</td>\n",
       "      <td>64</td>\n",
       "      <td>147</td>\n",
       "      <td>1660</td>\n",
       "      <td>9874</td>\n",
       "      <td>18</td>\n",
       "      <td>54</td>\n",
       "      <td>128</td>\n",
       "      <td>1364</td>\n",
       "      <td>9111</td>\n",
       "      <td>18985</td>\n",
       "    </tr>\n",
       "  </tbody>\n",
       "</table>\n",
       "<p>3 rows × 38 columns</p>\n",
       "</div>"
      ],
      "text/plain": [
       "             datetime                                            history  \\\n",
       "0 2018-03-15 00:00:00  [0, 0, 0, 0, 1, 2, 0, 1, 1, 4, 0, 1, 1, 1, 1, ...   \n",
       "1 2018-03-15 00:01:00  [0, 0, 0, 1, 2, 0, 1, 1, 4, 0, 1, 1, 1, 1, 3, ...   \n",
       "2 2018-03-15 00:02:00  [0, 0, 1, 2, 0, 1, 1, 4, 0, 1, 1, 1, 1, 3, 2, ...   \n",
       "\n",
       "   target_10  target_30  target_45  target_60  target_75  weekday  hour  \\\n",
       "0          5         18         28         32         42        3     0   \n",
       "1          5         19         27         32         42        3     0   \n",
       "2          7         20         27         33         43        3     0   \n",
       "\n",
       "   minute           ...            num_orders_10080_30  num_orders_10080_60  \\\n",
       "0       0           ...                             59                  143   \n",
       "1       1           ...                             60                  145   \n",
       "2       2           ...                             64                  147   \n",
       "\n",
       "   num_orders_10080_1440  num_orders_10080_10080  num_orders_20160_15  \\\n",
       "0                   1659                    9871                   13   \n",
       "1                   1658                    9870                   16   \n",
       "2                   1660                    9874                   18   \n",
       "\n",
       "   num_orders_20160_30  num_orders_20160_60  num_orders_20160_1440  \\\n",
       "0                   51                  124                   1364   \n",
       "1                   53                  126                   1364   \n",
       "2                   54                  128                   1364   \n",
       "\n",
       "   num_orders_20160_10080  num_orders_20160_20160  \n",
       "0                    9110                   18981  \n",
       "1                    9111                   18981  \n",
       "2                    9111                   18985  \n",
       "\n",
       "[3 rows x 38 columns]"
      ]
     },
     "execution_count": 219,
     "metadata": {},
     "output_type": "execute_result"
    }
   ],
   "source": [
    "df.head(3)"
   ]
  },
  {
   "cell_type": "code",
   "execution_count": null,
   "metadata": {},
   "outputs": [],
   "source": []
  }
 ],
 "metadata": {
  "kernelspec": {
   "display_name": "conda_pytorch_p36",
   "language": "python",
   "name": "conda_pytorch_p36"
  },
  "language_info": {
   "codemirror_mode": {
    "name": "ipython",
    "version": 3
   },
   "file_extension": ".py",
   "mimetype": "text/x-python",
   "name": "python",
   "nbconvert_exporter": "python",
   "pygments_lexer": "ipython3",
   "version": "3.6.5"
  },
  "toc": {
   "base_numbering": 1,
   "nav_menu": {},
   "number_sections": true,
   "sideBar": true,
   "skip_h1_title": false,
   "title_cell": "Table of Contents",
   "title_sidebar": "Contents",
   "toc_cell": false,
   "toc_position": {},
   "toc_section_display": true,
   "toc_window_display": false
  },
  "varInspector": {
   "cols": {
    "lenName": 16,
    "lenType": 16,
    "lenVar": 40
   },
   "kernels_config": {
    "python": {
     "delete_cmd_postfix": "",
     "delete_cmd_prefix": "del ",
     "library": "var_list.py",
     "varRefreshCmd": "print(var_dic_list())"
    },
    "r": {
     "delete_cmd_postfix": ") ",
     "delete_cmd_prefix": "rm(",
     "library": "var_list.r",
     "varRefreshCmd": "cat(var_dic_list()) "
    }
   },
   "types_to_exclude": [
    "module",
    "function",
    "builtin_function_or_method",
    "instance",
    "_Feature"
   ],
   "window_display": false
  }
 },
 "nbformat": 4,
 "nbformat_minor": 2
}
